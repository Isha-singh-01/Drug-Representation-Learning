{
 "cells": [
  {
   "cell_type": "code",
   "execution_count": 125,
   "outputs": [],
   "source": [
    "import os\n",
    "import pandas as pd\n",
    "\n",
    "for dataset in os.listdir(\"Data\"):\n",
    "    if dataset.endswith(\".gz\"):\n",
    "        if not dataset.endswith(\".csv.gz\"):\n",
    "            df = pd.read_csv(f\"Data/{dataset}\", sep='\\t', compression=\"gzip\")\n",
    "            df.to_csv(f\"Data/{dataset}\".replace(\".tsv.gz\", \".tsv\"), index=False)\n",
    "        else:\n",
    "            df = pd.read_csv(f\"Data/{dataset}\", compression=\"gzip\")\n",
    "            df.to_csv(f\"Data/{dataset}\".replace(\".csv.gz\", \".csv\"), index=False)\n",
    "            "
   ],
   "metadata": {
    "collapsed": false,
    "ExecuteTime": {
     "end_time": "2024-03-31T19:06:26.709346100Z",
     "start_time": "2024-03-31T19:06:26.580251100Z"
    }
   },
   "id": "71f0257877c84503"
  },
  {
   "cell_type": "code",
   "execution_count": 126,
   "outputs": [],
   "source": [
    "disease_gene_1 = pd.read_csv('Data/DG-Miner_miner-disease-gene.tsv', sep=',')"
   ],
   "metadata": {
    "collapsed": false,
    "ExecuteTime": {
     "end_time": "2024-03-31T19:06:35.513617Z",
     "start_time": "2024-03-31T19:06:26.867264200Z"
    }
   },
   "id": "4968ce70b66729e6"
  },
  {
   "cell_type": "code",
   "execution_count": 127,
   "outputs": [],
   "source": [
    "disease_gene_2 = pd.read_csv('Data/DG-AssocMiner_miner-disease-gene.tsv', sep=',')"
   ],
   "metadata": {
    "collapsed": false,
    "ExecuteTime": {
     "end_time": "2024-03-31T19:06:35.549461500Z",
     "start_time": "2024-03-31T19:06:35.467335800Z"
    }
   },
   "id": "135f9197899614d"
  },
  {
   "cell_type": "code",
   "execution_count": 128,
   "outputs": [],
   "source": [
    "disease_drug_1 = pd.read_csv('Data/DCh-Miner_miner-disease-chemical.tsv', sep=',')"
   ],
   "metadata": {
    "collapsed": false,
    "ExecuteTime": {
     "end_time": "2024-03-31T19:06:35.728248400Z",
     "start_time": "2024-03-31T19:06:35.496453100Z"
    }
   },
   "id": "35e14ca69753dd09"
  },
  {
   "cell_type": "code",
   "execution_count": 129,
   "outputs": [],
   "source": [
    "drug_gene_1 = pd.read_csv('Data/ChG-Miner_miner-chem-gene.tsv', sep=',')"
   ],
   "metadata": {
    "collapsed": false,
    "ExecuteTime": {
     "end_time": "2024-03-31T19:06:35.808649300Z",
     "start_time": "2024-03-31T19:06:35.729251600Z"
    }
   },
   "id": "eb6c718efd3a6a91"
  },
  {
   "cell_type": "code",
   "execution_count": 130,
   "outputs": [],
   "source": [
    "drug_gene_2 = pd.read_csv('Data/ChG-InterDecagon_targets.csv').reset_index()"
   ],
   "metadata": {
    "collapsed": false,
    "ExecuteTime": {
     "end_time": "2024-03-31T19:06:35.939460500Z",
     "start_time": "2024-03-31T19:06:35.757371900Z"
    }
   },
   "id": "2ecae7d577bfcf0f"
  },
  {
   "cell_type": "code",
   "execution_count": 131,
   "outputs": [],
   "source": [
    "drug_gene_3 = pd.read_csv('Data/ChG-TargetDecagon_targets.csv').reset_index()"
   ],
   "metadata": {
    "collapsed": false,
    "ExecuteTime": {
     "end_time": "2024-03-31T19:06:35.945260900Z",
     "start_time": "2024-03-31T19:06:35.822724200Z"
    }
   },
   "id": "9800f807abd5b33f"
  },
  {
   "cell_type": "code",
   "execution_count": 132,
   "outputs": [],
   "source": [
    "mesh_diseases = pd.read_csv('Data/Mapping Data/D-MeshMiner_miner-disease.tsv.gz', sep='\\t', compression=\"gzip\")"
   ],
   "metadata": {
    "collapsed": false,
    "ExecuteTime": {
     "end_time": "2024-03-31T19:06:36.041426300Z",
     "start_time": "2024-03-31T19:06:35.851957800Z"
    }
   },
   "id": "9b51fbc16d5d4746"
  },
  {
   "cell_type": "code",
   "execution_count": 133,
   "outputs": [],
   "source": [
    "mesh_disease_dict = dict(zip(mesh_diseases['# MESH_ID'], mesh_diseases['Name']))"
   ],
   "metadata": {
    "collapsed": false,
    "ExecuteTime": {
     "end_time": "2024-03-31T19:06:36.041426300Z",
     "start_time": "2024-03-31T19:06:35.978452Z"
    }
   },
   "id": "4a13efac4b5f8b2b"
  },
  {
   "cell_type": "code",
   "execution_count": 134,
   "outputs": [],
   "source": [
    "disease_drug_1['disease_name'] = disease_drug_1['# Disease(MESH)'].map(mesh_disease_dict)"
   ],
   "metadata": {
    "collapsed": false,
    "ExecuteTime": {
     "end_time": "2024-03-31T19:06:36.150446200Z",
     "start_time": "2024-03-31T19:06:35.998256900Z"
    }
   },
   "id": "61c3416bb93ca1"
  },
  {
   "cell_type": "code",
   "execution_count": 135,
   "outputs": [],
   "source": [
    "disease_gene_1['disease_name'] = disease_gene_1['# Disease(MESH)'].map(mesh_disease_dict)"
   ],
   "metadata": {
    "collapsed": false,
    "ExecuteTime": {
     "end_time": "2024-03-31T19:06:38.703769800Z",
     "start_time": "2024-03-31T19:06:36.106388800Z"
    }
   },
   "id": "6107244d72a75c7e"
  },
  {
   "cell_type": "code",
   "execution_count": 136,
   "outputs": [],
   "source": [
    "disease_gene_2.rename(columns={'Disease Name': 'disease_name'}, inplace=True)"
   ],
   "metadata": {
    "collapsed": false,
    "ExecuteTime": {
     "end_time": "2024-03-31T19:06:38.734954900Z",
     "start_time": "2024-03-31T19:06:38.710129100Z"
    }
   },
   "id": "2124c7d521908bfc"
  },
  {
   "cell_type": "code",
   "execution_count": 137,
   "outputs": [],
   "source": [
    "drug_drug_1 = pd.read_csv('Data/ChCh-Miner_durgbank-chem-chem.tsv.gz', sep='\\t', compression=\"gzip\", names=['drug_1', 'drug_2'])"
   ],
   "metadata": {
    "collapsed": false,
    "ExecuteTime": {
     "end_time": "2024-03-31T19:06:38.784636700Z",
     "start_time": "2024-03-31T19:06:38.719238800Z"
    }
   },
   "id": "51a6008a02aed1e5"
  },
  {
   "cell_type": "code",
   "execution_count": 138,
   "outputs": [],
   "source": [
    "drugbank = pd.read_csv('Data/Mapping Data/drugbank.tsv', sep='\\t')"
   ],
   "metadata": {
    "collapsed": false,
    "ExecuteTime": {
     "end_time": "2024-03-31T19:06:38.895236600Z",
     "start_time": "2024-03-31T19:06:38.766780100Z"
    }
   },
   "id": "f75c35960a13d8af"
  },
  {
   "cell_type": "code",
   "execution_count": 139,
   "outputs": [],
   "source": [
    "drugbank_map = dict(zip(drugbank['drugbank_id'], drugbank['name']))"
   ],
   "metadata": {
    "collapsed": false,
    "ExecuteTime": {
     "end_time": "2024-03-31T19:06:38.896247500Z",
     "start_time": "2024-03-31T19:06:38.863943200Z"
    }
   },
   "id": "bee8f920ba531a42"
  },
  {
   "cell_type": "code",
   "execution_count": 140,
   "outputs": [],
   "source": [
    "drug_drug_1['drug_1_name'] = drug_drug_1['drug_1'].map(drugbank_map)\n",
    "drug_drug_1['drug_2_name'] = drug_drug_1['drug_2'].map(drugbank_map)"
   ],
   "metadata": {
    "collapsed": false,
    "ExecuteTime": {
     "end_time": "2024-03-31T19:06:38.906290500Z",
     "start_time": "2024-03-31T19:06:38.874502600Z"
    }
   },
   "id": "2a2e036a5750dc50"
  },
  {
   "cell_type": "code",
   "execution_count": 141,
   "outputs": [],
   "source": [
    "disease_drug_1['drug_name'] = disease_drug_1['Chemical'].map(drugbank_map)"
   ],
   "metadata": {
    "collapsed": false,
    "ExecuteTime": {
     "end_time": "2024-03-31T19:06:38.986523600Z",
     "start_time": "2024-03-31T19:06:38.902784600Z"
    }
   },
   "id": "6c0d62eef253e8e9"
  },
  {
   "cell_type": "code",
   "execution_count": 142,
   "outputs": [],
   "source": [
    "gene_df = pd.read_csv('Data/Mapping Data/mart_export.tsv.txt', sep='\\t')"
   ],
   "metadata": {
    "collapsed": false,
    "ExecuteTime": {
     "end_time": "2024-03-31T19:06:39.120616200Z",
     "start_time": "2024-03-31T19:06:38.984450500Z"
    }
   },
   "id": "350ea688e91c657"
  },
  {
   "cell_type": "code",
   "execution_count": 143,
   "outputs": [],
   "source": [
    "gene_df.dropna(inplace=True)"
   ],
   "metadata": {
    "collapsed": false,
    "ExecuteTime": {
     "end_time": "2024-03-31T19:06:39.188662700Z",
     "start_time": "2024-03-31T19:06:39.122651600Z"
    }
   },
   "id": "867d39cdb70a8cd5"
  },
  {
   "cell_type": "code",
   "execution_count": 144,
   "outputs": [],
   "source": [
    "ncbi_to_ensembl = dict(zip(gene_df['NCBI gene (formerly Entrezgene) ID'].astype(int), gene_df['Gene stable ID']))"
   ],
   "metadata": {
    "collapsed": false,
    "ExecuteTime": {
     "end_time": "2024-03-31T19:06:39.189445400Z",
     "start_time": "2024-03-31T19:06:39.153451700Z"
    }
   },
   "id": "967d1dcc4195d747"
  },
  {
   "cell_type": "code",
   "execution_count": 145,
   "outputs": [],
   "source": [
    "disease_gene_2['ensembl_id'] = disease_gene_2['Gene ID'].map(ncbi_to_ensembl)"
   ],
   "metadata": {
    "collapsed": false,
    "ExecuteTime": {
     "end_time": "2024-03-31T19:06:39.291302500Z",
     "start_time": "2024-03-31T19:06:39.187407300Z"
    }
   },
   "id": "e3ccdefaac7c11b4"
  },
  {
   "cell_type": "code",
   "execution_count": 146,
   "outputs": [],
   "source": [
    "disease_gene_2['gene_name'] = disease_gene_2['Gene ID'].map(ncbi_to_ensembl)"
   ],
   "metadata": {
    "collapsed": false,
    "ExecuteTime": {
     "end_time": "2024-03-31T19:06:39.294539300Z",
     "start_time": "2024-03-31T19:06:39.213600500Z"
    }
   },
   "id": "8dc19c87ef62f787"
  },
  {
   "cell_type": "code",
   "execution_count": 147,
   "outputs": [
    {
     "name": "stderr",
     "output_type": "stream",
     "text": [
      "C:\\Users\\mihir\\PycharmProjects\\assignment-2-env\\lib\\site-packages\\IPython\\core\\interactiveshell.py:3553: DtypeWarning: Columns (32,34,38) have mixed types.Specify dtype option on import or set low_memory=False.\n",
      "  exec(code_obj, self.user_global_ns, self.user_ns)\n"
     ]
    }
   ],
   "source": [
    "\n",
    "gsyn_miner = pd.read_csv('Data/Mapping Data/G-SynMiner_miner-geneHUGO.tsv.gz', sep='\\t')"
   ],
   "metadata": {
    "collapsed": false,
    "ExecuteTime": {
     "end_time": "2024-03-31T19:06:39.788678500Z",
     "start_time": "2024-03-31T19:06:39.242902600Z"
    }
   },
   "id": "916cb7b050074f11"
  },
  {
   "cell_type": "code",
   "execution_count": 148,
   "outputs": [
    {
     "data": {
      "text/plain": "   # ensembl_gene_id     hgnc_id    symbol  \\\n0    ENSG00000121410      HGNC:5      A1BG   \n1    ENSG00000268895  HGNC:37133  A1BG-AS1   \n2    ENSG00000148584  HGNC:24086      A1CF   \n3    ENSG00000175899      HGNC:7       A2M   \n4    ENSG00000245105  HGNC:27057   A2M-AS1   \n..               ...         ...       ...   \n95   ENSG00000033050     HGNC:71     ABCF2   \n96   ENSG00000242159  HGNC:48841   ABCF2P1   \n97   ENSG00000228769  HGNC:48842   ABCF2P2   \n98   ENSG00000161204     HGNC:72     ABCF3   \n99   ENSG00000160179     HGNC:73     ABCG1   \n\n                                                 name          locus_group  \\\n0                              alpha-1-B glycoprotein  protein-coding gene   \n1                                A1BG antisense RNA 1       non-coding RNA   \n2                      APOBEC1 complementation factor  protein-coding gene   \n3                               alpha-2-macroglobulin  protein-coding gene   \n4                  A2M antisense RNA 1 (head to head)       non-coding RNA   \n..                                                ...                  ...   \n95          ATP binding cassette subfamily F member 2  protein-coding gene   \n96  ATP binding cassette subfamily F member 2 pseu...           pseudogene   \n97  ATP binding cassette subfamily F member 2 pseu...           pseudogene   \n98          ATP binding cassette subfamily F member 3  protein-coding gene   \n99          ATP binding cassette subfamily G member 1  protein-coding gene   \n\n                   locus_type    status  location location_sortable  \\\n0   gene with protein product  Approved  19q13.43          19q13.43   \n1        RNA, long non-coding  Approved  19q13.43          19q13.43   \n2   gene with protein product  Approved   10q21.1           10q21.1   \n3   gene with protein product  Approved  12p13.31          12p13.31   \n4        RNA, long non-coding  Approved  12p13.31          12p13.31   \n..                        ...       ...       ...               ...   \n95  gene with protein product  Approved    7q36.1           07q36.1   \n96                 pseudogene  Approved    3p11.1           03p11.1   \n97                 pseudogene  Approved   7q11.22          07q11.22   \n98  gene with protein product  Approved    3q27.1           03q27.1   \n99  gene with protein product  Approved   21q22.3           21q22.3   \n\n                       alias_symbol  ... horde_id   merops imgt        iuphar  \\\n0                               NaN  ...      NaN  I43.950  NaN           NaN   \n1                          FLJ23569  ...      NaN      NaN  NaN           NaN   \n2     ACF|ASP|ACF64|ACF65|APOBEC1CF  ...      NaN      NaN  NaN           NaN   \n3              FWP007|S863-7|CPAMD5  ...      NaN  I39.001  NaN           NaN   \n4                               NaN  ...      NaN      NaN  NaN           NaN   \n..                              ...  ...      ...      ...  ...           ...   \n95  EST133090|ABC28|M-ABC1|HUSSY-18  ...      NaN      NaN  NaN           NaN   \n96                              NaN  ...      NaN      NaN  NaN           NaN   \n97                              NaN  ...      NaN      NaN  NaN           NaN   \n98                        EST201864  ...      NaN      NaN  NaN           NaN   \n99                             ABC8  ...      NaN      NaN  NaN  objectId:791   \n\n   kznf_gene_catalog mamit-trnadb   cd lncrnadb enzyme_id  \\\n0                NaN          NaN  NaN      NaN       NaN   \n1                NaN          NaN  NaN      NaN       NaN   \n2                NaN          NaN  NaN      NaN       NaN   \n3                NaN          NaN  NaN      NaN       NaN   \n4                NaN          NaN  NaN      NaN       NaN   \n..               ...          ...  ...      ...       ...   \n95               NaN          NaN  NaN      NaN       NaN   \n96               NaN          NaN  NaN      NaN       NaN   \n97               NaN          NaN  NaN      NaN       NaN   \n98               NaN          NaN  NaN      NaN       NaN   \n99               NaN          NaN  NaN      NaN       NaN   \n\n    intermediate_filament_db  \n0                        NaN  \n1                        NaN  \n2                        NaN  \n3                        NaN  \n4                        NaN  \n..                       ...  \n95                       NaN  \n96                       NaN  \n97                       NaN  \n98                       NaN  \n99                       NaN  \n\n[100 rows x 48 columns]",
      "text/html": "<div>\n<style scoped>\n    .dataframe tbody tr th:only-of-type {\n        vertical-align: middle;\n    }\n\n    .dataframe tbody tr th {\n        vertical-align: top;\n    }\n\n    .dataframe thead th {\n        text-align: right;\n    }\n</style>\n<table border=\"1\" class=\"dataframe\">\n  <thead>\n    <tr style=\"text-align: right;\">\n      <th></th>\n      <th># ensembl_gene_id</th>\n      <th>hgnc_id</th>\n      <th>symbol</th>\n      <th>name</th>\n      <th>locus_group</th>\n      <th>locus_type</th>\n      <th>status</th>\n      <th>location</th>\n      <th>location_sortable</th>\n      <th>alias_symbol</th>\n      <th>...</th>\n      <th>horde_id</th>\n      <th>merops</th>\n      <th>imgt</th>\n      <th>iuphar</th>\n      <th>kznf_gene_catalog</th>\n      <th>mamit-trnadb</th>\n      <th>cd</th>\n      <th>lncrnadb</th>\n      <th>enzyme_id</th>\n      <th>intermediate_filament_db</th>\n    </tr>\n  </thead>\n  <tbody>\n    <tr>\n      <th>0</th>\n      <td>ENSG00000121410</td>\n      <td>HGNC:5</td>\n      <td>A1BG</td>\n      <td>alpha-1-B glycoprotein</td>\n      <td>protein-coding gene</td>\n      <td>gene with protein product</td>\n      <td>Approved</td>\n      <td>19q13.43</td>\n      <td>19q13.43</td>\n      <td>NaN</td>\n      <td>...</td>\n      <td>NaN</td>\n      <td>I43.950</td>\n      <td>NaN</td>\n      <td>NaN</td>\n      <td>NaN</td>\n      <td>NaN</td>\n      <td>NaN</td>\n      <td>NaN</td>\n      <td>NaN</td>\n      <td>NaN</td>\n    </tr>\n    <tr>\n      <th>1</th>\n      <td>ENSG00000268895</td>\n      <td>HGNC:37133</td>\n      <td>A1BG-AS1</td>\n      <td>A1BG antisense RNA 1</td>\n      <td>non-coding RNA</td>\n      <td>RNA, long non-coding</td>\n      <td>Approved</td>\n      <td>19q13.43</td>\n      <td>19q13.43</td>\n      <td>FLJ23569</td>\n      <td>...</td>\n      <td>NaN</td>\n      <td>NaN</td>\n      <td>NaN</td>\n      <td>NaN</td>\n      <td>NaN</td>\n      <td>NaN</td>\n      <td>NaN</td>\n      <td>NaN</td>\n      <td>NaN</td>\n      <td>NaN</td>\n    </tr>\n    <tr>\n      <th>2</th>\n      <td>ENSG00000148584</td>\n      <td>HGNC:24086</td>\n      <td>A1CF</td>\n      <td>APOBEC1 complementation factor</td>\n      <td>protein-coding gene</td>\n      <td>gene with protein product</td>\n      <td>Approved</td>\n      <td>10q21.1</td>\n      <td>10q21.1</td>\n      <td>ACF|ASP|ACF64|ACF65|APOBEC1CF</td>\n      <td>...</td>\n      <td>NaN</td>\n      <td>NaN</td>\n      <td>NaN</td>\n      <td>NaN</td>\n      <td>NaN</td>\n      <td>NaN</td>\n      <td>NaN</td>\n      <td>NaN</td>\n      <td>NaN</td>\n      <td>NaN</td>\n    </tr>\n    <tr>\n      <th>3</th>\n      <td>ENSG00000175899</td>\n      <td>HGNC:7</td>\n      <td>A2M</td>\n      <td>alpha-2-macroglobulin</td>\n      <td>protein-coding gene</td>\n      <td>gene with protein product</td>\n      <td>Approved</td>\n      <td>12p13.31</td>\n      <td>12p13.31</td>\n      <td>FWP007|S863-7|CPAMD5</td>\n      <td>...</td>\n      <td>NaN</td>\n      <td>I39.001</td>\n      <td>NaN</td>\n      <td>NaN</td>\n      <td>NaN</td>\n      <td>NaN</td>\n      <td>NaN</td>\n      <td>NaN</td>\n      <td>NaN</td>\n      <td>NaN</td>\n    </tr>\n    <tr>\n      <th>4</th>\n      <td>ENSG00000245105</td>\n      <td>HGNC:27057</td>\n      <td>A2M-AS1</td>\n      <td>A2M antisense RNA 1 (head to head)</td>\n      <td>non-coding RNA</td>\n      <td>RNA, long non-coding</td>\n      <td>Approved</td>\n      <td>12p13.31</td>\n      <td>12p13.31</td>\n      <td>NaN</td>\n      <td>...</td>\n      <td>NaN</td>\n      <td>NaN</td>\n      <td>NaN</td>\n      <td>NaN</td>\n      <td>NaN</td>\n      <td>NaN</td>\n      <td>NaN</td>\n      <td>NaN</td>\n      <td>NaN</td>\n      <td>NaN</td>\n    </tr>\n    <tr>\n      <th>...</th>\n      <td>...</td>\n      <td>...</td>\n      <td>...</td>\n      <td>...</td>\n      <td>...</td>\n      <td>...</td>\n      <td>...</td>\n      <td>...</td>\n      <td>...</td>\n      <td>...</td>\n      <td>...</td>\n      <td>...</td>\n      <td>...</td>\n      <td>...</td>\n      <td>...</td>\n      <td>...</td>\n      <td>...</td>\n      <td>...</td>\n      <td>...</td>\n      <td>...</td>\n      <td>...</td>\n    </tr>\n    <tr>\n      <th>95</th>\n      <td>ENSG00000033050</td>\n      <td>HGNC:71</td>\n      <td>ABCF2</td>\n      <td>ATP binding cassette subfamily F member 2</td>\n      <td>protein-coding gene</td>\n      <td>gene with protein product</td>\n      <td>Approved</td>\n      <td>7q36.1</td>\n      <td>07q36.1</td>\n      <td>EST133090|ABC28|M-ABC1|HUSSY-18</td>\n      <td>...</td>\n      <td>NaN</td>\n      <td>NaN</td>\n      <td>NaN</td>\n      <td>NaN</td>\n      <td>NaN</td>\n      <td>NaN</td>\n      <td>NaN</td>\n      <td>NaN</td>\n      <td>NaN</td>\n      <td>NaN</td>\n    </tr>\n    <tr>\n      <th>96</th>\n      <td>ENSG00000242159</td>\n      <td>HGNC:48841</td>\n      <td>ABCF2P1</td>\n      <td>ATP binding cassette subfamily F member 2 pseu...</td>\n      <td>pseudogene</td>\n      <td>pseudogene</td>\n      <td>Approved</td>\n      <td>3p11.1</td>\n      <td>03p11.1</td>\n      <td>NaN</td>\n      <td>...</td>\n      <td>NaN</td>\n      <td>NaN</td>\n      <td>NaN</td>\n      <td>NaN</td>\n      <td>NaN</td>\n      <td>NaN</td>\n      <td>NaN</td>\n      <td>NaN</td>\n      <td>NaN</td>\n      <td>NaN</td>\n    </tr>\n    <tr>\n      <th>97</th>\n      <td>ENSG00000228769</td>\n      <td>HGNC:48842</td>\n      <td>ABCF2P2</td>\n      <td>ATP binding cassette subfamily F member 2 pseu...</td>\n      <td>pseudogene</td>\n      <td>pseudogene</td>\n      <td>Approved</td>\n      <td>7q11.22</td>\n      <td>07q11.22</td>\n      <td>NaN</td>\n      <td>...</td>\n      <td>NaN</td>\n      <td>NaN</td>\n      <td>NaN</td>\n      <td>NaN</td>\n      <td>NaN</td>\n      <td>NaN</td>\n      <td>NaN</td>\n      <td>NaN</td>\n      <td>NaN</td>\n      <td>NaN</td>\n    </tr>\n    <tr>\n      <th>98</th>\n      <td>ENSG00000161204</td>\n      <td>HGNC:72</td>\n      <td>ABCF3</td>\n      <td>ATP binding cassette subfamily F member 3</td>\n      <td>protein-coding gene</td>\n      <td>gene with protein product</td>\n      <td>Approved</td>\n      <td>3q27.1</td>\n      <td>03q27.1</td>\n      <td>EST201864</td>\n      <td>...</td>\n      <td>NaN</td>\n      <td>NaN</td>\n      <td>NaN</td>\n      <td>NaN</td>\n      <td>NaN</td>\n      <td>NaN</td>\n      <td>NaN</td>\n      <td>NaN</td>\n      <td>NaN</td>\n      <td>NaN</td>\n    </tr>\n    <tr>\n      <th>99</th>\n      <td>ENSG00000160179</td>\n      <td>HGNC:73</td>\n      <td>ABCG1</td>\n      <td>ATP binding cassette subfamily G member 1</td>\n      <td>protein-coding gene</td>\n      <td>gene with protein product</td>\n      <td>Approved</td>\n      <td>21q22.3</td>\n      <td>21q22.3</td>\n      <td>ABC8</td>\n      <td>...</td>\n      <td>NaN</td>\n      <td>NaN</td>\n      <td>NaN</td>\n      <td>objectId:791</td>\n      <td>NaN</td>\n      <td>NaN</td>\n      <td>NaN</td>\n      <td>NaN</td>\n      <td>NaN</td>\n      <td>NaN</td>\n    </tr>\n  </tbody>\n</table>\n<p>100 rows × 48 columns</p>\n</div>"
     },
     "execution_count": 148,
     "metadata": {},
     "output_type": "execute_result"
    }
   ],
   "source": [
    "gsyn_miner.head(100)"
   ],
   "metadata": {
    "collapsed": false,
    "ExecuteTime": {
     "end_time": "2024-03-31T19:06:39.875687900Z",
     "start_time": "2024-03-31T19:06:39.792734100Z"
    }
   },
   "id": "4ef4da4493a79095"
  },
  {
   "cell_type": "code",
   "execution_count": 149,
   "outputs": [],
   "source": [
    "ensemble_to_name_mapping = dict(zip(gsyn_miner['# ensembl_gene_id'], gsyn_miner['name']))"
   ],
   "metadata": {
    "collapsed": false,
    "ExecuteTime": {
     "end_time": "2024-03-31T19:06:39.918714700Z",
     "start_time": "2024-03-31T19:06:39.848881200Z"
    }
   },
   "id": "9fde5a639cbccbd1"
  },
  {
   "cell_type": "code",
   "execution_count": 150,
   "outputs": [],
   "source": [
    "disease_gene_2['gene_name'] = disease_gene_2['ensembl_id'].map(ensemble_to_name_mapping)"
   ],
   "metadata": {
    "collapsed": false,
    "ExecuteTime": {
     "end_time": "2024-03-31T19:06:40.003685200Z",
     "start_time": "2024-03-31T19:06:39.871498900Z"
    }
   },
   "id": "e4d21def1727ed00"
  },
  {
   "cell_type": "code",
   "execution_count": 151,
   "outputs": [
    {
     "data": {
      "text/plain": "  # Disease ID              disease_name  Gene ID       ensembl_id  \\\n0     C0036095  Salivary Gland Neoplasms     1462  ENSG00000038427   \n1     C0036095  Salivary Gland Neoplasms     1612  ENSG00000196730   \n2     C0036095  Salivary Gland Neoplasms      182  ENSG00000101384   \n3     C0036095  Salivary Gland Neoplasms     2011  ENSG00000072518   \n4     C0036095  Salivary Gland Neoplasms     2019  ENSG00000163064   \n\n                                  gene_name  \n0                                  versican  \n1         death associated protein kinase 1  \n2                                  jagged 1  \n3  microtubule affinity regulating kinase 2  \n4                      engrailed homeobox 1  ",
      "text/html": "<div>\n<style scoped>\n    .dataframe tbody tr th:only-of-type {\n        vertical-align: middle;\n    }\n\n    .dataframe tbody tr th {\n        vertical-align: top;\n    }\n\n    .dataframe thead th {\n        text-align: right;\n    }\n</style>\n<table border=\"1\" class=\"dataframe\">\n  <thead>\n    <tr style=\"text-align: right;\">\n      <th></th>\n      <th># Disease ID</th>\n      <th>disease_name</th>\n      <th>Gene ID</th>\n      <th>ensembl_id</th>\n      <th>gene_name</th>\n    </tr>\n  </thead>\n  <tbody>\n    <tr>\n      <th>0</th>\n      <td>C0036095</td>\n      <td>Salivary Gland Neoplasms</td>\n      <td>1462</td>\n      <td>ENSG00000038427</td>\n      <td>versican</td>\n    </tr>\n    <tr>\n      <th>1</th>\n      <td>C0036095</td>\n      <td>Salivary Gland Neoplasms</td>\n      <td>1612</td>\n      <td>ENSG00000196730</td>\n      <td>death associated protein kinase 1</td>\n    </tr>\n    <tr>\n      <th>2</th>\n      <td>C0036095</td>\n      <td>Salivary Gland Neoplasms</td>\n      <td>182</td>\n      <td>ENSG00000101384</td>\n      <td>jagged 1</td>\n    </tr>\n    <tr>\n      <th>3</th>\n      <td>C0036095</td>\n      <td>Salivary Gland Neoplasms</td>\n      <td>2011</td>\n      <td>ENSG00000072518</td>\n      <td>microtubule affinity regulating kinase 2</td>\n    </tr>\n    <tr>\n      <th>4</th>\n      <td>C0036095</td>\n      <td>Salivary Gland Neoplasms</td>\n      <td>2019</td>\n      <td>ENSG00000163064</td>\n      <td>engrailed homeobox 1</td>\n    </tr>\n  </tbody>\n</table>\n</div>"
     },
     "execution_count": 151,
     "metadata": {},
     "output_type": "execute_result"
    }
   ],
   "source": [
    "disease_gene_2.head()"
   ],
   "metadata": {
    "collapsed": false,
    "ExecuteTime": {
     "end_time": "2024-03-31T19:06:40.004721200Z",
     "start_time": "2024-03-31T19:06:39.904833100Z"
    }
   },
   "id": "7af391fd50bd1ad0"
  },
  {
   "cell_type": "code",
   "execution_count": 152,
   "outputs": [],
   "source": [
    "uniprot_to_ensemble_df = pd.read_csv('Data/Mapping Data/mart_export_2.txt', sep='\\t')"
   ],
   "metadata": {
    "collapsed": false,
    "ExecuteTime": {
     "end_time": "2024-03-31T19:06:42.265551200Z",
     "start_time": "2024-03-31T19:06:39.914609600Z"
    }
   },
   "id": "ef17f7df8063849f"
  },
  {
   "cell_type": "code",
   "execution_count": 153,
   "outputs": [],
   "source": [
    "uniprot_to_ensemble = dict(zip(uniprot_to_ensemble_df['UniProtKB Gene Name ID'], uniprot_to_ensemble_df['Gene stable ID'])) "
   ],
   "metadata": {
    "collapsed": false,
    "ExecuteTime": {
     "end_time": "2024-03-31T19:06:42.653493600Z",
     "start_time": "2024-03-31T19:06:42.272767200Z"
    }
   },
   "id": "221f59e1f64823a7"
  },
  {
   "cell_type": "code",
   "execution_count": 154,
   "outputs": [],
   "source": [
    "disease_gene_1['ensembl_id'] = disease_gene_1['Gene'].map(uniprot_to_ensemble)"
   ],
   "metadata": {
    "collapsed": false,
    "ExecuteTime": {
     "end_time": "2024-03-31T19:06:48.803574900Z",
     "start_time": "2024-03-31T19:06:42.655552600Z"
    }
   },
   "id": "b8fbb32e6e61dab0"
  },
  {
   "cell_type": "code",
   "execution_count": 155,
   "outputs": [],
   "source": [
    "disease_gene_1['gene_name'] = disease_gene_1['ensembl_id'].map(ensemble_to_name_mapping)"
   ],
   "metadata": {
    "collapsed": false,
    "ExecuteTime": {
     "end_time": "2024-03-31T19:06:52.411422100Z",
     "start_time": "2024-03-31T19:06:48.805619800Z"
    }
   },
   "id": "f63a30d09b5c3868"
  },
  {
   "cell_type": "code",
   "execution_count": 156,
   "outputs": [
    {
     "data": {
      "text/plain": "  # Disease(MESH)        Gene              disease_name       ensembl_id  \\\n0    MESH:D005756  A0A087WZV0                 Gastritis  ENSG00000145725   \n1    MESH:D055370      P11464               Lung Injury  ENSG00000231924   \n2    MESH:D007410      Q92945       Intestinal Diseases  ENSG00000088247   \n3    MESH:D014062      Q6ISS4          Tongue Neoplasms  ENSG00000167618   \n4    MESH:D054549      Q96RU8  Takotsubo Cardiomyopathy  ENSG00000173334   \n\n                                           gene_name  \n0       diphosphoinositol pentakisphosphate kinase 2  \n1           pregnancy specific beta-1-glycoprotein 1  \n2                KH-type splicing regulatory protein  \n3  leukocyte associated immunoglobulin like recep...  \n4                            tribbles pseudokinase 1  ",
      "text/html": "<div>\n<style scoped>\n    .dataframe tbody tr th:only-of-type {\n        vertical-align: middle;\n    }\n\n    .dataframe tbody tr th {\n        vertical-align: top;\n    }\n\n    .dataframe thead th {\n        text-align: right;\n    }\n</style>\n<table border=\"1\" class=\"dataframe\">\n  <thead>\n    <tr style=\"text-align: right;\">\n      <th></th>\n      <th># Disease(MESH)</th>\n      <th>Gene</th>\n      <th>disease_name</th>\n      <th>ensembl_id</th>\n      <th>gene_name</th>\n    </tr>\n  </thead>\n  <tbody>\n    <tr>\n      <th>0</th>\n      <td>MESH:D005756</td>\n      <td>A0A087WZV0</td>\n      <td>Gastritis</td>\n      <td>ENSG00000145725</td>\n      <td>diphosphoinositol pentakisphosphate kinase 2</td>\n    </tr>\n    <tr>\n      <th>1</th>\n      <td>MESH:D055370</td>\n      <td>P11464</td>\n      <td>Lung Injury</td>\n      <td>ENSG00000231924</td>\n      <td>pregnancy specific beta-1-glycoprotein 1</td>\n    </tr>\n    <tr>\n      <th>2</th>\n      <td>MESH:D007410</td>\n      <td>Q92945</td>\n      <td>Intestinal Diseases</td>\n      <td>ENSG00000088247</td>\n      <td>KH-type splicing regulatory protein</td>\n    </tr>\n    <tr>\n      <th>3</th>\n      <td>MESH:D014062</td>\n      <td>Q6ISS4</td>\n      <td>Tongue Neoplasms</td>\n      <td>ENSG00000167618</td>\n      <td>leukocyte associated immunoglobulin like recep...</td>\n    </tr>\n    <tr>\n      <th>4</th>\n      <td>MESH:D054549</td>\n      <td>Q96RU8</td>\n      <td>Takotsubo Cardiomyopathy</td>\n      <td>ENSG00000173334</td>\n      <td>tribbles pseudokinase 1</td>\n    </tr>\n  </tbody>\n</table>\n</div>"
     },
     "execution_count": 156,
     "metadata": {},
     "output_type": "execute_result"
    }
   ],
   "source": [
    "disease_gene_1.head()"
   ],
   "metadata": {
    "collapsed": false,
    "ExecuteTime": {
     "end_time": "2024-03-31T19:06:52.479188600Z",
     "start_time": "2024-03-31T19:06:52.417049900Z"
    }
   },
   "id": "9e94c7e8fc888883"
  },
  {
   "cell_type": "code",
   "execution_count": 157,
   "outputs": [
    {
     "data": {
      "text/plain": "     #Drug    Gene\n0  DB00357  P05108\n1  DB02721  P00325\n2  DB00773  P23219\n3  DB07138  Q16539\n4  DB08136  P24941",
      "text/html": "<div>\n<style scoped>\n    .dataframe tbody tr th:only-of-type {\n        vertical-align: middle;\n    }\n\n    .dataframe tbody tr th {\n        vertical-align: top;\n    }\n\n    .dataframe thead th {\n        text-align: right;\n    }\n</style>\n<table border=\"1\" class=\"dataframe\">\n  <thead>\n    <tr style=\"text-align: right;\">\n      <th></th>\n      <th>#Drug</th>\n      <th>Gene</th>\n    </tr>\n  </thead>\n  <tbody>\n    <tr>\n      <th>0</th>\n      <td>DB00357</td>\n      <td>P05108</td>\n    </tr>\n    <tr>\n      <th>1</th>\n      <td>DB02721</td>\n      <td>P00325</td>\n    </tr>\n    <tr>\n      <th>2</th>\n      <td>DB00773</td>\n      <td>P23219</td>\n    </tr>\n    <tr>\n      <th>3</th>\n      <td>DB07138</td>\n      <td>Q16539</td>\n    </tr>\n    <tr>\n      <th>4</th>\n      <td>DB08136</td>\n      <td>P24941</td>\n    </tr>\n  </tbody>\n</table>\n</div>"
     },
     "execution_count": 157,
     "metadata": {},
     "output_type": "execute_result"
    }
   ],
   "source": [
    "drug_gene_1.head()"
   ],
   "metadata": {
    "collapsed": false,
    "ExecuteTime": {
     "end_time": "2024-03-31T19:06:52.512804400Z",
     "start_time": "2024-03-31T19:06:52.451756800Z"
    }
   },
   "id": "9eab970a68b9f6fa"
  },
  {
   "cell_type": "code",
   "execution_count": 223,
   "outputs": [],
   "source": [
    "drug_gene_1['drug_name'] = drug_gene_1['#Drug'].map(drugbank_map)\n",
    "drug_gene_1['ensembl_id'] = drug_gene_1['Gene'].map(uniprot_to_ensemble)\n",
    "drug_gene_1['gene_name'] = drug_gene_1['ensembl_id'].map(ensemble_to_name_mapping)"
   ],
   "metadata": {
    "collapsed": false,
    "ExecuteTime": {
     "end_time": "2024-03-31T20:00:35.519522Z",
     "start_time": "2024-03-31T20:00:35.437624100Z"
    }
   },
   "id": "35038c7ae67b50a1"
  },
  {
   "cell_type": "code",
   "execution_count": 159,
   "outputs": [],
   "source": [
    "drug_gene_2.rename(columns={'index': '# Drug', '# Drug\\tGene': 'Gene'}, inplace=True)"
   ],
   "metadata": {
    "collapsed": false,
    "ExecuteTime": {
     "end_time": "2024-03-31T19:06:52.699861800Z",
     "start_time": "2024-03-31T19:06:52.523105300Z"
    }
   },
   "id": "b15873d2565acd8e"
  },
  {
   "cell_type": "code",
   "execution_count": 160,
   "outputs": [],
   "source": [
    "drug_gene_2['ensembl_id'] = drug_gene_2['Gene'].map(ncbi_to_ensembl)\n",
    "drug_gene_2['gene_name'] = drug_gene_2['ensembl_id'].map(ensemble_to_name_mapping)"
   ],
   "metadata": {
    "collapsed": false,
    "ExecuteTime": {
     "end_time": "2024-03-31T19:06:52.726484700Z",
     "start_time": "2024-03-31T19:06:52.551868100Z"
    }
   },
   "id": "8acab48c91fc5b42"
  },
  {
   "cell_type": "code",
   "execution_count": 161,
   "outputs": [
    {
     "data": {
      "text/plain": "         # Drug  Gene       ensembl_id  \\\n0  CID000060752  3757  ENSG00000055118   \n1  CID006918155  2908  ENSG00000113580   \n2  CID103052762  3359  ENSG00000166736   \n3  CID023668479  1230  ENSG00000163823   \n4  CID000028864  1269  ENSG00000188822   \n\n                                           gene_name  \n0  potassium voltage-gated channel subfamily H me...  \n1      nuclear receptor subfamily 3 group C member 1  \n2                    5-hydroxytryptamine receptor 3A  \n3                     C-C motif chemokine receptor 1  \n4                             cannabinoid receptor 2  ",
      "text/html": "<div>\n<style scoped>\n    .dataframe tbody tr th:only-of-type {\n        vertical-align: middle;\n    }\n\n    .dataframe tbody tr th {\n        vertical-align: top;\n    }\n\n    .dataframe thead th {\n        text-align: right;\n    }\n</style>\n<table border=\"1\" class=\"dataframe\">\n  <thead>\n    <tr style=\"text-align: right;\">\n      <th></th>\n      <th># Drug</th>\n      <th>Gene</th>\n      <th>ensembl_id</th>\n      <th>gene_name</th>\n    </tr>\n  </thead>\n  <tbody>\n    <tr>\n      <th>0</th>\n      <td>CID000060752</td>\n      <td>3757</td>\n      <td>ENSG00000055118</td>\n      <td>potassium voltage-gated channel subfamily H me...</td>\n    </tr>\n    <tr>\n      <th>1</th>\n      <td>CID006918155</td>\n      <td>2908</td>\n      <td>ENSG00000113580</td>\n      <td>nuclear receptor subfamily 3 group C member 1</td>\n    </tr>\n    <tr>\n      <th>2</th>\n      <td>CID103052762</td>\n      <td>3359</td>\n      <td>ENSG00000166736</td>\n      <td>5-hydroxytryptamine receptor 3A</td>\n    </tr>\n    <tr>\n      <th>3</th>\n      <td>CID023668479</td>\n      <td>1230</td>\n      <td>ENSG00000163823</td>\n      <td>C-C motif chemokine receptor 1</td>\n    </tr>\n    <tr>\n      <th>4</th>\n      <td>CID000028864</td>\n      <td>1269</td>\n      <td>ENSG00000188822</td>\n      <td>cannabinoid receptor 2</td>\n    </tr>\n  </tbody>\n</table>\n</div>"
     },
     "execution_count": 161,
     "metadata": {},
     "output_type": "execute_result"
    }
   ],
   "source": [
    "drug_gene_2.head()"
   ],
   "metadata": {
    "collapsed": false,
    "ExecuteTime": {
     "end_time": "2024-03-31T19:06:52.727684300Z",
     "start_time": "2024-03-31T19:06:52.622488700Z"
    }
   },
   "id": "a0d7cd40daad99de"
  },
  {
   "cell_type": "code",
   "execution_count": 162,
   "outputs": [],
   "source": [
    "drug_names = pd.read_csv('Data/Mapping Data/drug_names.tsv', sep='\\t', names=['id', 'name'])"
   ],
   "metadata": {
    "collapsed": false,
    "ExecuteTime": {
     "end_time": "2024-03-31T19:06:52.782173100Z",
     "start_time": "2024-03-31T19:06:52.630467400Z"
    }
   },
   "id": "e02e3c049fa5f929"
  },
  {
   "cell_type": "code",
   "execution_count": 163,
   "outputs": [],
   "source": [
    "drug_names_map = dict(zip(drug_names['id'], drug_names['name']))"
   ],
   "metadata": {
    "collapsed": false,
    "ExecuteTime": {
     "end_time": "2024-03-31T19:06:52.784102Z",
     "start_time": "2024-03-31T19:06:52.645209Z"
    }
   },
   "id": "aec410f90a0e5a64"
  },
  {
   "cell_type": "code",
   "execution_count": 164,
   "outputs": [],
   "source": [
    "drug_gene_2['drug_name'] = drug_gene_2['# Drug'].map(drug_names_map)"
   ],
   "metadata": {
    "collapsed": false,
    "ExecuteTime": {
     "end_time": "2024-03-31T19:06:55.352983Z",
     "start_time": "2024-03-31T19:06:55.233004400Z"
    }
   },
   "id": "7263686cb3a826eb"
  },
  {
   "cell_type": "code",
   "execution_count": 165,
   "outputs": [
    {
     "data": {
      "text/plain": "          index  # Drug\\tGene\n0  CID000003488          1559\n1  CID000003488          8647\n2  CID000077992          3351\n3  CID000077992          3350\n4  CID000077992          3352",
      "text/html": "<div>\n<style scoped>\n    .dataframe tbody tr th:only-of-type {\n        vertical-align: middle;\n    }\n\n    .dataframe tbody tr th {\n        vertical-align: top;\n    }\n\n    .dataframe thead th {\n        text-align: right;\n    }\n</style>\n<table border=\"1\" class=\"dataframe\">\n  <thead>\n    <tr style=\"text-align: right;\">\n      <th></th>\n      <th>index</th>\n      <th># Drug\\tGene</th>\n    </tr>\n  </thead>\n  <tbody>\n    <tr>\n      <th>0</th>\n      <td>CID000003488</td>\n      <td>1559</td>\n    </tr>\n    <tr>\n      <th>1</th>\n      <td>CID000003488</td>\n      <td>8647</td>\n    </tr>\n    <tr>\n      <th>2</th>\n      <td>CID000077992</td>\n      <td>3351</td>\n    </tr>\n    <tr>\n      <th>3</th>\n      <td>CID000077992</td>\n      <td>3350</td>\n    </tr>\n    <tr>\n      <th>4</th>\n      <td>CID000077992</td>\n      <td>3352</td>\n    </tr>\n  </tbody>\n</table>\n</div>"
     },
     "execution_count": 165,
     "metadata": {},
     "output_type": "execute_result"
    }
   ],
   "source": [
    "drug_gene_3.head()"
   ],
   "metadata": {
    "collapsed": false,
    "ExecuteTime": {
     "end_time": "2024-03-31T19:06:56.085597300Z",
     "start_time": "2024-03-31T19:06:56.044598500Z"
    }
   },
   "id": "981da76dc170a3e7"
  },
  {
   "cell_type": "code",
   "execution_count": 166,
   "outputs": [],
   "source": [
    "drug_gene_3.rename(columns={'index': '# Drug', '# Drug\\tGene': 'Gene'}, inplace=True)"
   ],
   "metadata": {
    "collapsed": false,
    "ExecuteTime": {
     "end_time": "2024-03-31T19:06:57.922423400Z",
     "start_time": "2024-03-31T19:06:57.887674Z"
    }
   },
   "id": "cd5873bd063d6016"
  },
  {
   "cell_type": "code",
   "execution_count": 167,
   "outputs": [],
   "source": [
    "\n",
    "drug_gene_3['ensembl_id'] = drug_gene_3['Gene'].map(ncbi_to_ensembl)\n",
    "drug_gene_3['gene_name'] = drug_gene_3['ensembl_id'].map(ensemble_to_name_mapping)\n",
    "drug_gene_3['drug_name'] = drug_gene_3['# Drug'].map(drug_names_map)"
   ],
   "metadata": {
    "collapsed": false,
    "ExecuteTime": {
     "end_time": "2024-03-31T19:06:58.653955800Z",
     "start_time": "2024-03-31T19:06:58.578818700Z"
    }
   },
   "id": "cb3b48ff89d943db"
  },
  {
   "cell_type": "code",
   "execution_count": 168,
   "outputs": [
    {
     "data": {
      "text/plain": "          # Drug    Gene       ensembl_id  \\\n0   CID000003488    1559  ENSG00000138109   \n1   CID000003488    8647  ENSG00000073734   \n2   CID000077992    3351  ENSG00000135312   \n3   CID000077992    3350  ENSG00000178394   \n4   CID000077992    3352  ENSG00000179546   \n..           ...     ...              ...   \n95  CID000002083    9293  ENSG00000203737   \n96  CID000002083    5021  ENSG00000180914   \n97  CID000002083   57007  ENSG00000144476   \n98  CID000002083    4986  ENSG00000082556   \n99  CID000002083  118442  ENSG00000180929   \n\n                                        gene_name drug_name  \n0   cytochrome P450 family 2 subfamily C member 9       NaN  \n1      ATP binding cassette subfamily B member 11       NaN  \n2                 5-hydroxytryptamine receptor 1B       NaN  \n3                 5-hydroxytryptamine receptor 1A       NaN  \n4                 5-hydroxytryptamine receptor 1D       NaN  \n..                                            ...       ...  \n95                  G protein-coupled receptor 52       NaN  \n96                              oxytocin receptor       NaN  \n97                  atypical chemokine receptor 3       NaN  \n98                        opioid receptor kappa 1       NaN  \n99                  G protein-coupled receptor 62       NaN  \n\n[100 rows x 5 columns]",
      "text/html": "<div>\n<style scoped>\n    .dataframe tbody tr th:only-of-type {\n        vertical-align: middle;\n    }\n\n    .dataframe tbody tr th {\n        vertical-align: top;\n    }\n\n    .dataframe thead th {\n        text-align: right;\n    }\n</style>\n<table border=\"1\" class=\"dataframe\">\n  <thead>\n    <tr style=\"text-align: right;\">\n      <th></th>\n      <th># Drug</th>\n      <th>Gene</th>\n      <th>ensembl_id</th>\n      <th>gene_name</th>\n      <th>drug_name</th>\n    </tr>\n  </thead>\n  <tbody>\n    <tr>\n      <th>0</th>\n      <td>CID000003488</td>\n      <td>1559</td>\n      <td>ENSG00000138109</td>\n      <td>cytochrome P450 family 2 subfamily C member 9</td>\n      <td>NaN</td>\n    </tr>\n    <tr>\n      <th>1</th>\n      <td>CID000003488</td>\n      <td>8647</td>\n      <td>ENSG00000073734</td>\n      <td>ATP binding cassette subfamily B member 11</td>\n      <td>NaN</td>\n    </tr>\n    <tr>\n      <th>2</th>\n      <td>CID000077992</td>\n      <td>3351</td>\n      <td>ENSG00000135312</td>\n      <td>5-hydroxytryptamine receptor 1B</td>\n      <td>NaN</td>\n    </tr>\n    <tr>\n      <th>3</th>\n      <td>CID000077992</td>\n      <td>3350</td>\n      <td>ENSG00000178394</td>\n      <td>5-hydroxytryptamine receptor 1A</td>\n      <td>NaN</td>\n    </tr>\n    <tr>\n      <th>4</th>\n      <td>CID000077992</td>\n      <td>3352</td>\n      <td>ENSG00000179546</td>\n      <td>5-hydroxytryptamine receptor 1D</td>\n      <td>NaN</td>\n    </tr>\n    <tr>\n      <th>...</th>\n      <td>...</td>\n      <td>...</td>\n      <td>...</td>\n      <td>...</td>\n      <td>...</td>\n    </tr>\n    <tr>\n      <th>95</th>\n      <td>CID000002083</td>\n      <td>9293</td>\n      <td>ENSG00000203737</td>\n      <td>G protein-coupled receptor 52</td>\n      <td>NaN</td>\n    </tr>\n    <tr>\n      <th>96</th>\n      <td>CID000002083</td>\n      <td>5021</td>\n      <td>ENSG00000180914</td>\n      <td>oxytocin receptor</td>\n      <td>NaN</td>\n    </tr>\n    <tr>\n      <th>97</th>\n      <td>CID000002083</td>\n      <td>57007</td>\n      <td>ENSG00000144476</td>\n      <td>atypical chemokine receptor 3</td>\n      <td>NaN</td>\n    </tr>\n    <tr>\n      <th>98</th>\n      <td>CID000002083</td>\n      <td>4986</td>\n      <td>ENSG00000082556</td>\n      <td>opioid receptor kappa 1</td>\n      <td>NaN</td>\n    </tr>\n    <tr>\n      <th>99</th>\n      <td>CID000002083</td>\n      <td>118442</td>\n      <td>ENSG00000180929</td>\n      <td>G protein-coupled receptor 62</td>\n      <td>NaN</td>\n    </tr>\n  </tbody>\n</table>\n<p>100 rows × 5 columns</p>\n</div>"
     },
     "execution_count": 168,
     "metadata": {},
     "output_type": "execute_result"
    }
   ],
   "source": [
    "drug_gene_3.head(100)"
   ],
   "metadata": {
    "collapsed": false,
    "ExecuteTime": {
     "end_time": "2024-03-31T19:06:59.463308600Z",
     "start_time": "2024-03-31T19:06:59.393810Z"
    }
   },
   "id": "e89d4a0c594cd8cd"
  },
  {
   "cell_type": "code",
   "execution_count": 169,
   "outputs": [
    {
     "name": "stdout",
     "output_type": "stream",
     "text": [
      "(131034, 5)\n",
      "# Drug            0\n",
      "Gene              0\n",
      "ensembl_id      181\n",
      "gene_name      1109\n",
      "drug_name     63170\n",
      "dtype: int64\n"
     ]
    }
   ],
   "source": [
    "print(drug_gene_2.shape)\n",
    "print(drug_gene_2.isna().sum())"
   ],
   "metadata": {
    "collapsed": false,
    "ExecuteTime": {
     "end_time": "2024-03-31T19:07:01.437774400Z",
     "start_time": "2024-03-31T19:07:01.368414700Z"
    }
   },
   "id": "e18d66a239f5cd00"
  },
  {
   "cell_type": "code",
   "execution_count": 170,
   "outputs": [
    {
     "data": {
      "text/plain": "# Disease(MESH)         0\nGene                    0\ndisease_name        17833\nensembl_id         552355\ngene_name          637166\ndtype: int64"
     },
     "execution_count": 170,
     "metadata": {},
     "output_type": "execute_result"
    }
   ],
   "source": [
    "disease_gene_1.isna().sum()"
   ],
   "metadata": {
    "collapsed": false,
    "ExecuteTime": {
     "end_time": "2024-03-31T19:07:15.551235800Z",
     "start_time": "2024-03-31T19:07:10.051281500Z"
    }
   },
   "id": "b3922812f32706e2"
  },
  {
   "cell_type": "code",
   "execution_count": 218,
   "outputs": [],
   "source": [
    "import json \n",
    "# db_mapping = json.load(open('./Data/Mapping Data/DB_mapping.json', 'r'))\n",
    "cid_mapping = json.load(open('./Data/Mapping Data/CID_mapping.json', 'r'))"
   ],
   "metadata": {
    "collapsed": false,
    "ExecuteTime": {
     "end_time": "2024-03-31T19:59:10.926312600Z",
     "start_time": "2024-03-31T19:59:10.853768200Z"
    }
   },
   "id": "e82e45a73a17d583"
  },
  {
   "cell_type": "code",
   "execution_count": 238,
   "outputs": [
    {
     "data": {
      "text/plain": "(# Drug             0\n Gene               0\n ensembl_id       181\n gene_name       1109\n drug_name     112344\n db_id         131034\n dtype: int64,\n (131034, 6))"
     },
     "execution_count": 238,
     "metadata": {},
     "output_type": "execute_result"
    }
   ],
   "source": [
    "drug_gene_2['drug_name'] = drug_gene_2['# Drug'].map(cid_mapping)\n",
    "drug_gene_2.isna().sum(), drug_gene_2.shape"
   ],
   "metadata": {
    "collapsed": false,
    "ExecuteTime": {
     "end_time": "2024-03-31T20:06:10.011446100Z",
     "start_time": "2024-03-31T20:06:09.918995700Z"
    }
   },
   "id": "b911e66a2a2896d"
  },
  {
   "cell_type": "code",
   "execution_count": 239,
   "outputs": [
    {
     "data": {
      "text/plain": "(# Drug            0\n Gene              0\n ensembl_id       10\n gene_name       131\n drug_name         0\n db_id         18690\n dtype: int64,\n (18690, 6))"
     },
     "execution_count": 239,
     "metadata": {},
     "output_type": "execute_result"
    }
   ],
   "source": [
    "drug_gene_3['drug_name'] = drug_gene_3['# Drug'].map(cid_mapping)\n",
    "drug_gene_3.isna().sum(), drug_gene_3.shape"
   ],
   "metadata": {
    "collapsed": false,
    "ExecuteTime": {
     "end_time": "2024-03-31T20:10:03.132455Z",
     "start_time": "2024-03-31T20:10:03.087634600Z"
    }
   },
   "id": "6a2993c50613327c"
  },
  {
   "cell_type": "code",
   "execution_count": 253,
   "outputs": [],
   "source": [
    "drug_gene_1.head()\n",
    "\n",
    "drug_gene_1_new = drug_gene_1[['drug_name', 'gene_name']].dropna().reset_index(drop=True)\n",
    "drug_gene_2_new = drug_gene_2[['drug_name', 'gene_name']].dropna().reset_index(drop=True)\n",
    "drug_gene_3_new = drug_gene_3[['drug_name', 'gene_name']].dropna().reset_index(drop=True)"
   ],
   "metadata": {
    "collapsed": false,
    "ExecuteTime": {
     "end_time": "2024-03-31T20:28:42.368851800Z",
     "start_time": "2024-03-31T20:28:42.321223900Z"
    }
   },
   "id": "d23511aac099f061"
  },
  {
   "cell_type": "code",
   "execution_count": 254,
   "outputs": [],
   "source": [
    "drug_gene_df = pd.concat([drug_gene_1_new, drug_gene_2_new, drug_gene_3_new], ignore_index=True).reset_index(drop=True)"
   ],
   "metadata": {
    "collapsed": false,
    "ExecuteTime": {
     "end_time": "2024-03-31T20:28:42.551217Z",
     "start_time": "2024-03-31T20:28:42.532247100Z"
    }
   },
   "id": "b7b2c837ef7b60ef"
  },
  {
   "cell_type": "code",
   "execution_count": 255,
   "outputs": [
    {
     "data": {
      "text/plain": "                                           drug_name  \\\n0                                  Aminoglutethimide   \n1                                     4-Iodopyrazole   \n2                                          Etoposide   \n3  5-(2,6-dichlorophenyl)-2-[(2,4-difluorophenyl)...   \n4  4-(acetylamino)-N-(4-fluorophenyl)-1H-pyrazole...   \n\n                                           gene_name  \n0     cytochrome P450 family 11 subfamily A member 1  \n1  alcohol dehydrogenase 1B (class I), beta polyp...  \n2              prostaglandin-endoperoxide synthase 1  \n3                mitogen-activated protein kinase 14  \n4                          cyclin-dependent kinase 2  ",
      "text/html": "<div>\n<style scoped>\n    .dataframe tbody tr th:only-of-type {\n        vertical-align: middle;\n    }\n\n    .dataframe tbody tr th {\n        vertical-align: top;\n    }\n\n    .dataframe thead th {\n        text-align: right;\n    }\n</style>\n<table border=\"1\" class=\"dataframe\">\n  <thead>\n    <tr style=\"text-align: right;\">\n      <th></th>\n      <th>drug_name</th>\n      <th>gene_name</th>\n    </tr>\n  </thead>\n  <tbody>\n    <tr>\n      <th>0</th>\n      <td>Aminoglutethimide</td>\n      <td>cytochrome P450 family 11 subfamily A member 1</td>\n    </tr>\n    <tr>\n      <th>1</th>\n      <td>4-Iodopyrazole</td>\n      <td>alcohol dehydrogenase 1B (class I), beta polyp...</td>\n    </tr>\n    <tr>\n      <th>2</th>\n      <td>Etoposide</td>\n      <td>prostaglandin-endoperoxide synthase 1</td>\n    </tr>\n    <tr>\n      <th>3</th>\n      <td>5-(2,6-dichlorophenyl)-2-[(2,4-difluorophenyl)...</td>\n      <td>mitogen-activated protein kinase 14</td>\n    </tr>\n    <tr>\n      <th>4</th>\n      <td>4-(acetylamino)-N-(4-fluorophenyl)-1H-pyrazole...</td>\n      <td>cyclin-dependent kinase 2</td>\n    </tr>\n  </tbody>\n</table>\n</div>"
     },
     "execution_count": 255,
     "metadata": {},
     "output_type": "execute_result"
    }
   ],
   "source": [
    "drug_gene_df.head()"
   ],
   "metadata": {
    "collapsed": false,
    "ExecuteTime": {
     "end_time": "2024-03-31T20:28:42.732069600Z",
     "start_time": "2024-03-31T20:28:42.711745400Z"
    }
   },
   "id": "6b456d1d8d817461"
  },
  {
   "cell_type": "code",
   "execution_count": 288,
   "outputs": [
    {
     "data": {
      "text/plain": "(40368, 2)"
     },
     "execution_count": 288,
     "metadata": {},
     "output_type": "execute_result"
    }
   ],
   "source": [
    "drug_drug_df = drug_drug_1[['drug_1_name', 'drug_2_name']].dropna().reset_index(drop=True)\n",
    "drug_drug_df.shape"
   ],
   "metadata": {
    "collapsed": false,
    "ExecuteTime": {
     "end_time": "2024-03-31T20:49:49.202156900Z",
     "start_time": "2024-03-31T20:49:49.152937Z"
    }
   },
   "id": "9f20aef094aa2214"
  },
  {
   "cell_type": "code",
   "execution_count": 262,
   "outputs": [
    {
     "data": {
      "text/plain": "  # Disease(MESH)        Gene              disease_name       ensembl_id  \\\n0    MESH:D005756  A0A087WZV0                 Gastritis  ENSG00000145725   \n1    MESH:D055370      P11464               Lung Injury  ENSG00000231924   \n2    MESH:D007410      Q92945       Intestinal Diseases  ENSG00000088247   \n3    MESH:D014062      Q6ISS4          Tongue Neoplasms  ENSG00000167618   \n4    MESH:D054549      Q96RU8  Takotsubo Cardiomyopathy  ENSG00000173334   \n\n                                           gene_name  \n0       diphosphoinositol pentakisphosphate kinase 2  \n1           pregnancy specific beta-1-glycoprotein 1  \n2                KH-type splicing regulatory protein  \n3  leukocyte associated immunoglobulin like recep...  \n4                            tribbles pseudokinase 1  ",
      "text/html": "<div>\n<style scoped>\n    .dataframe tbody tr th:only-of-type {\n        vertical-align: middle;\n    }\n\n    .dataframe tbody tr th {\n        vertical-align: top;\n    }\n\n    .dataframe thead th {\n        text-align: right;\n    }\n</style>\n<table border=\"1\" class=\"dataframe\">\n  <thead>\n    <tr style=\"text-align: right;\">\n      <th></th>\n      <th># Disease(MESH)</th>\n      <th>Gene</th>\n      <th>disease_name</th>\n      <th>ensembl_id</th>\n      <th>gene_name</th>\n    </tr>\n  </thead>\n  <tbody>\n    <tr>\n      <th>0</th>\n      <td>MESH:D005756</td>\n      <td>A0A087WZV0</td>\n      <td>Gastritis</td>\n      <td>ENSG00000145725</td>\n      <td>diphosphoinositol pentakisphosphate kinase 2</td>\n    </tr>\n    <tr>\n      <th>1</th>\n      <td>MESH:D055370</td>\n      <td>P11464</td>\n      <td>Lung Injury</td>\n      <td>ENSG00000231924</td>\n      <td>pregnancy specific beta-1-glycoprotein 1</td>\n    </tr>\n    <tr>\n      <th>2</th>\n      <td>MESH:D007410</td>\n      <td>Q92945</td>\n      <td>Intestinal Diseases</td>\n      <td>ENSG00000088247</td>\n      <td>KH-type splicing regulatory protein</td>\n    </tr>\n    <tr>\n      <th>3</th>\n      <td>MESH:D014062</td>\n      <td>Q6ISS4</td>\n      <td>Tongue Neoplasms</td>\n      <td>ENSG00000167618</td>\n      <td>leukocyte associated immunoglobulin like recep...</td>\n    </tr>\n    <tr>\n      <th>4</th>\n      <td>MESH:D054549</td>\n      <td>Q96RU8</td>\n      <td>Takotsubo Cardiomyopathy</td>\n      <td>ENSG00000173334</td>\n      <td>tribbles pseudokinase 1</td>\n    </tr>\n  </tbody>\n</table>\n</div>"
     },
     "execution_count": 262,
     "metadata": {},
     "output_type": "execute_result"
    }
   ],
   "source": [
    "disease_gene_1.head()"
   ],
   "metadata": {
    "collapsed": false,
    "ExecuteTime": {
     "end_time": "2024-03-31T20:31:56.295546700Z",
     "start_time": "2024-03-31T20:31:56.266063800Z"
    }
   },
   "id": "4dfa8dfd578d31fd"
  },
  {
   "cell_type": "code",
   "execution_count": 264,
   "outputs": [],
   "source": [
    "disease_gene_1_new = disease_gene_1[['disease_name', 'gene_name']].dropna().reset_index(drop=True)\n",
    "disease_gene_2_new = disease_gene_2[['disease_name', 'gene_name']].dropna().reset_index(drop=True)"
   ],
   "metadata": {
    "collapsed": false,
    "ExecuteTime": {
     "end_time": "2024-03-31T20:32:16.471472100Z",
     "start_time": "2024-03-31T20:32:14.112005400Z"
    }
   },
   "id": "d26c58241d251044"
  },
  {
   "cell_type": "code",
   "execution_count": 265,
   "outputs": [],
   "source": [
    "disease_gene_df = pd.concat([disease_gene_1_new, disease_gene_2_new], ignore_index=True).reset_index(drop=True)"
   ],
   "metadata": {
    "collapsed": false,
    "ExecuteTime": {
     "end_time": "2024-03-31T20:32:16.723039500Z",
     "start_time": "2024-03-31T20:32:16.473479500Z"
    }
   },
   "id": "4987c451a086c32"
  },
  {
   "cell_type": "code",
   "execution_count": 269,
   "outputs": [
    {
     "data": {
      "text/plain": "  # Disease(MESH) Chemical                           disease_name  \\\n0    MESH:D005923  DB00564    Glomerulosclerosis, Focal Segmental   \n1    MESH:D009503  DB01072                            Neutropenia   \n2    MESH:D016115  DB01759               Albinism, Oculocutaneous   \n3    MESH:D018476  DB00451                            Hypokinesia   \n4    MESH:C567059  DB00641  Multiple Endocrine Neoplasia, Type IV   \n\n                                    drug_name  \n0                               Carbamazepine  \n1                                  Atazanavir  \n2  5-Hydroxy-2-(Hydroxymethyl)-4h-Pyran-4-One  \n3                               Levothyroxine  \n4                                 Simvastatin  ",
      "text/html": "<div>\n<style scoped>\n    .dataframe tbody tr th:only-of-type {\n        vertical-align: middle;\n    }\n\n    .dataframe tbody tr th {\n        vertical-align: top;\n    }\n\n    .dataframe thead th {\n        text-align: right;\n    }\n</style>\n<table border=\"1\" class=\"dataframe\">\n  <thead>\n    <tr style=\"text-align: right;\">\n      <th></th>\n      <th># Disease(MESH)</th>\n      <th>Chemical</th>\n      <th>disease_name</th>\n      <th>drug_name</th>\n    </tr>\n  </thead>\n  <tbody>\n    <tr>\n      <th>0</th>\n      <td>MESH:D005923</td>\n      <td>DB00564</td>\n      <td>Glomerulosclerosis, Focal Segmental</td>\n      <td>Carbamazepine</td>\n    </tr>\n    <tr>\n      <th>1</th>\n      <td>MESH:D009503</td>\n      <td>DB01072</td>\n      <td>Neutropenia</td>\n      <td>Atazanavir</td>\n    </tr>\n    <tr>\n      <th>2</th>\n      <td>MESH:D016115</td>\n      <td>DB01759</td>\n      <td>Albinism, Oculocutaneous</td>\n      <td>5-Hydroxy-2-(Hydroxymethyl)-4h-Pyran-4-One</td>\n    </tr>\n    <tr>\n      <th>3</th>\n      <td>MESH:D018476</td>\n      <td>DB00451</td>\n      <td>Hypokinesia</td>\n      <td>Levothyroxine</td>\n    </tr>\n    <tr>\n      <th>4</th>\n      <td>MESH:C567059</td>\n      <td>DB00641</td>\n      <td>Multiple Endocrine Neoplasia, Type IV</td>\n      <td>Simvastatin</td>\n    </tr>\n  </tbody>\n</table>\n</div>"
     },
     "execution_count": 269,
     "metadata": {},
     "output_type": "execute_result"
    }
   ],
   "source": [
    "disease_drug_1.head()"
   ],
   "metadata": {
    "collapsed": false,
    "ExecuteTime": {
     "end_time": "2024-03-31T20:33:10.564949700Z",
     "start_time": "2024-03-31T20:33:10.517808Z"
    }
   },
   "id": "ea074aeaa3318ed4"
  },
  {
   "cell_type": "code",
   "execution_count": 270,
   "outputs": [],
   "source": [
    "disease_drug_df = disease_drug_1[['disease_name', 'drug_name']].dropna().reset_index(drop=True)"
   ],
   "metadata": {
    "collapsed": false,
    "ExecuteTime": {
     "end_time": "2024-03-31T20:33:26.153781600Z",
     "start_time": "2024-03-31T20:33:26.009297800Z"
    }
   },
   "id": "c72bebed73b211db"
  },
  {
   "cell_type": "code",
   "execution_count": 271,
   "outputs": [
    {
     "data": {
      "text/plain": "                            disease_name  \\\n0    Glomerulosclerosis, Focal Segmental   \n1                            Neutropenia   \n2               Albinism, Oculocutaneous   \n3                            Hypokinesia   \n4  Multiple Endocrine Neoplasia, Type IV   \n\n                                    drug_name  \n0                               Carbamazepine  \n1                                  Atazanavir  \n2  5-Hydroxy-2-(Hydroxymethyl)-4h-Pyran-4-One  \n3                               Levothyroxine  \n4                                 Simvastatin  ",
      "text/html": "<div>\n<style scoped>\n    .dataframe tbody tr th:only-of-type {\n        vertical-align: middle;\n    }\n\n    .dataframe tbody tr th {\n        vertical-align: top;\n    }\n\n    .dataframe thead th {\n        text-align: right;\n    }\n</style>\n<table border=\"1\" class=\"dataframe\">\n  <thead>\n    <tr style=\"text-align: right;\">\n      <th></th>\n      <th>disease_name</th>\n      <th>drug_name</th>\n    </tr>\n  </thead>\n  <tbody>\n    <tr>\n      <th>0</th>\n      <td>Glomerulosclerosis, Focal Segmental</td>\n      <td>Carbamazepine</td>\n    </tr>\n    <tr>\n      <th>1</th>\n      <td>Neutropenia</td>\n      <td>Atazanavir</td>\n    </tr>\n    <tr>\n      <th>2</th>\n      <td>Albinism, Oculocutaneous</td>\n      <td>5-Hydroxy-2-(Hydroxymethyl)-4h-Pyran-4-One</td>\n    </tr>\n    <tr>\n      <th>3</th>\n      <td>Hypokinesia</td>\n      <td>Levothyroxine</td>\n    </tr>\n    <tr>\n      <th>4</th>\n      <td>Multiple Endocrine Neoplasia, Type IV</td>\n      <td>Simvastatin</td>\n    </tr>\n  </tbody>\n</table>\n</div>"
     },
     "execution_count": 271,
     "metadata": {},
     "output_type": "execute_result"
    }
   ],
   "source": [
    "disease_drug_df.head()"
   ],
   "metadata": {
    "collapsed": false,
    "ExecuteTime": {
     "end_time": "2024-03-31T20:33:26.749158200Z",
     "start_time": "2024-03-31T20:33:26.713748400Z"
    }
   },
   "id": "ef750644aec2542d"
  },
  {
   "cell_type": "code",
   "execution_count": 272,
   "outputs": [
    {
     "data": {
      "text/plain": "(456820, 2)"
     },
     "execution_count": 272,
     "metadata": {},
     "output_type": "execute_result"
    }
   ],
   "source": [
    "disease_drug_df.shape"
   ],
   "metadata": {
    "collapsed": false,
    "ExecuteTime": {
     "end_time": "2024-03-31T20:33:35.859367400Z",
     "start_time": "2024-03-31T20:33:35.813782900Z"
    }
   },
   "id": "fd261e187d095a0a"
  },
  {
   "cell_type": "code",
   "execution_count": 274,
   "outputs": [],
   "source": [
    "drug_gene_df.to_csv('./Data/preprocessed_data/drug_gene.csv', index=False)"
   ],
   "metadata": {
    "collapsed": false,
    "ExecuteTime": {
     "end_time": "2024-03-31T20:35:25.936359Z",
     "start_time": "2024-03-31T20:35:25.836255500Z"
    }
   },
   "id": "c9e36746b6d2c507"
  },
  {
   "cell_type": "code",
   "execution_count": 275,
   "outputs": [],
   "source": [
    "disease_gene_df.to_csv('./Data/preprocessed_data/disease_gene.csv', index=False)"
   ],
   "metadata": {
    "collapsed": false,
    "ExecuteTime": {
     "end_time": "2024-03-31T20:36:03.442701Z",
     "start_time": "2024-03-31T20:35:35.804972500Z"
    }
   },
   "id": "73a5497703c1d69e"
  },
  {
   "cell_type": "code",
   "execution_count": 276,
   "outputs": [],
   "source": [
    "disease_drug_df.to_csv('./Data/preprocessed_data/disease_drug.csv', index=False)"
   ],
   "metadata": {
    "collapsed": false,
    "ExecuteTime": {
     "end_time": "2024-03-31T20:36:04.081587100Z",
     "start_time": "2024-03-31T20:36:03.444221700Z"
    }
   },
   "id": "d5b042b0a3ae06b7"
  },
  {
   "cell_type": "code",
   "execution_count": 289,
   "outputs": [],
   "source": [
    "drug_drug_df.to_csv('./Data/preprocessed_data/drug_drug.csv', index=False)"
   ],
   "metadata": {
    "collapsed": false,
    "ExecuteTime": {
     "end_time": "2024-03-31T20:49:56.569945Z",
     "start_time": "2024-03-31T20:49:56.475694300Z"
    }
   },
   "id": "39fddca7fb71bf0e"
  },
  {
   "cell_type": "code",
   "execution_count": 290,
   "outputs": [
    {
     "data": {
      "text/plain": "    drug_1_name     drug_2_name\n0    Vardenafil     Telmisartan\n1     Clonidine  Pentoxifylline\n2  Clomipramine      Mirabegron\n3   Desipramine      Perampanel\n4        L-DOPA     Hydralazine",
      "text/html": "<div>\n<style scoped>\n    .dataframe tbody tr th:only-of-type {\n        vertical-align: middle;\n    }\n\n    .dataframe tbody tr th {\n        vertical-align: top;\n    }\n\n    .dataframe thead th {\n        text-align: right;\n    }\n</style>\n<table border=\"1\" class=\"dataframe\">\n  <thead>\n    <tr style=\"text-align: right;\">\n      <th></th>\n      <th>drug_1_name</th>\n      <th>drug_2_name</th>\n    </tr>\n  </thead>\n  <tbody>\n    <tr>\n      <th>0</th>\n      <td>Vardenafil</td>\n      <td>Telmisartan</td>\n    </tr>\n    <tr>\n      <th>1</th>\n      <td>Clonidine</td>\n      <td>Pentoxifylline</td>\n    </tr>\n    <tr>\n      <th>2</th>\n      <td>Clomipramine</td>\n      <td>Mirabegron</td>\n    </tr>\n    <tr>\n      <th>3</th>\n      <td>Desipramine</td>\n      <td>Perampanel</td>\n    </tr>\n    <tr>\n      <th>4</th>\n      <td>L-DOPA</td>\n      <td>Hydralazine</td>\n    </tr>\n  </tbody>\n</table>\n</div>"
     },
     "execution_count": 290,
     "metadata": {},
     "output_type": "execute_result"
    }
   ],
   "source": [
    "drug_drug_df.head()"
   ],
   "metadata": {
    "collapsed": false,
    "ExecuteTime": {
     "end_time": "2024-03-31T20:49:57.582788500Z",
     "start_time": "2024-03-31T20:49:57.539192600Z"
    }
   },
   "id": "ce7d5d0b81512609"
  },
  {
   "cell_type": "code",
   "execution_count": 293,
   "outputs": [
    {
     "data": {
      "text/plain": "                                               drug_name  \\\n0                                      Aminoglutethimide   \n1                                         4-Iodopyrazole   \n2                                              Etoposide   \n3      5-(2,6-dichlorophenyl)-2-[(2,4-difluorophenyl)...   \n4      4-(acetylamino)-N-(4-fluorophenyl)-1H-pyrazole...   \n...                                                  ...   \n51584                                         Salmeterol   \n51585                                         Salmeterol   \n51586                                         Salmeterol   \n51587                                         Salmeterol   \n51588                                         Salmeterol   \n\n                                               gene_name  \n0         cytochrome P450 family 11 subfamily A member 1  \n1      alcohol dehydrogenase 1B (class I), beta polyp...  \n2                  prostaglandin-endoperoxide synthase 1  \n3                    mitogen-activated protein kinase 14  \n4                              cyclin-dependent kinase 2  \n...                                                  ...  \n51584                                 galanin receptor 3  \n51585                      G protein-coupled receptor 63  \n51586                  trace amine associated receptor 8  \n51587                           bombesin like receptor 3  \n51588                              histamine receptor H3  \n\n[50130 rows x 2 columns]",
      "text/html": "<div>\n<style scoped>\n    .dataframe tbody tr th:only-of-type {\n        vertical-align: middle;\n    }\n\n    .dataframe tbody tr th {\n        vertical-align: top;\n    }\n\n    .dataframe thead th {\n        text-align: right;\n    }\n</style>\n<table border=\"1\" class=\"dataframe\">\n  <thead>\n    <tr style=\"text-align: right;\">\n      <th></th>\n      <th>drug_name</th>\n      <th>gene_name</th>\n    </tr>\n  </thead>\n  <tbody>\n    <tr>\n      <th>0</th>\n      <td>Aminoglutethimide</td>\n      <td>cytochrome P450 family 11 subfamily A member 1</td>\n    </tr>\n    <tr>\n      <th>1</th>\n      <td>4-Iodopyrazole</td>\n      <td>alcohol dehydrogenase 1B (class I), beta polyp...</td>\n    </tr>\n    <tr>\n      <th>2</th>\n      <td>Etoposide</td>\n      <td>prostaglandin-endoperoxide synthase 1</td>\n    </tr>\n    <tr>\n      <th>3</th>\n      <td>5-(2,6-dichlorophenyl)-2-[(2,4-difluorophenyl)...</td>\n      <td>mitogen-activated protein kinase 14</td>\n    </tr>\n    <tr>\n      <th>4</th>\n      <td>4-(acetylamino)-N-(4-fluorophenyl)-1H-pyrazole...</td>\n      <td>cyclin-dependent kinase 2</td>\n    </tr>\n    <tr>\n      <th>...</th>\n      <td>...</td>\n      <td>...</td>\n    </tr>\n    <tr>\n      <th>51584</th>\n      <td>Salmeterol</td>\n      <td>galanin receptor 3</td>\n    </tr>\n    <tr>\n      <th>51585</th>\n      <td>Salmeterol</td>\n      <td>G protein-coupled receptor 63</td>\n    </tr>\n    <tr>\n      <th>51586</th>\n      <td>Salmeterol</td>\n      <td>trace amine associated receptor 8</td>\n    </tr>\n    <tr>\n      <th>51587</th>\n      <td>Salmeterol</td>\n      <td>bombesin like receptor 3</td>\n    </tr>\n    <tr>\n      <th>51588</th>\n      <td>Salmeterol</td>\n      <td>histamine receptor H3</td>\n    </tr>\n  </tbody>\n</table>\n<p>50130 rows × 2 columns</p>\n</div>"
     },
     "execution_count": 293,
     "metadata": {},
     "output_type": "execute_result"
    }
   ],
   "source": [
    "drug_gene_df[drug_gene_df['gene_name'].isin(disease_gene_df['gene_name'])]"
   ],
   "metadata": {
    "collapsed": false,
    "ExecuteTime": {
     "end_time": "2024-03-31T20:50:59.038353600Z",
     "start_time": "2024-03-31T20:50:58.026403400Z"
    }
   },
   "id": "62944f3c768086ec"
  },
  {
   "cell_type": "code",
   "execution_count": 281,
   "outputs": [
    {
     "data": {
      "text/plain": "                                        disease_name  \\\n1308448   17-Hydroxysteroid Dehydrogenase Deficiency   \n7184572                    18-Hydroxylase deficiency   \n765011          2,4-Dienoyl-CoA Reductase Deficiency   \n8372182                    2-Hydroxyglutaricaciduria   \n7849073                    2-Hydroxyglutaricaciduria   \n...                                              ...   \n8290404                    von Hippel-Lindau Disease   \n8022657                    von Hippel-Lindau Disease   \n7453662               von Willebrand Disease, Type 1   \n14658889              von Willebrand Disease, Type 2   \n4039072               von Willebrand Disease, Type 3   \n\n                                               gene_name  \n1308448         hydroxysteroid (17-beta) dehydrogenase 3  \n7184572   cytochrome P450 family 11 subfamily B member 2  \n765011        2,4-dienoyl-CoA reductase 1, mitochondrial  \n8372182               isocitrate dehydrogenase 1 (NADP+)  \n7849073               D-2-hydroxyglutarate dehydrogenase  \n...                                                  ...  \n8290404               von Hippel-Lindau tumor suppressor  \n8022657                                        cyclin D1  \n7453662                            von Willebrand factor  \n14658889                           von Willebrand factor  \n4039072                            von Willebrand factor  \n\n[14875871 rows x 2 columns]",
      "text/html": "<div>\n<style scoped>\n    .dataframe tbody tr th:only-of-type {\n        vertical-align: middle;\n    }\n\n    .dataframe tbody tr th {\n        vertical-align: top;\n    }\n\n    .dataframe thead th {\n        text-align: right;\n    }\n</style>\n<table border=\"1\" class=\"dataframe\">\n  <thead>\n    <tr style=\"text-align: right;\">\n      <th></th>\n      <th>disease_name</th>\n      <th>gene_name</th>\n    </tr>\n  </thead>\n  <tbody>\n    <tr>\n      <th>1308448</th>\n      <td>17-Hydroxysteroid Dehydrogenase Deficiency</td>\n      <td>hydroxysteroid (17-beta) dehydrogenase 3</td>\n    </tr>\n    <tr>\n      <th>7184572</th>\n      <td>18-Hydroxylase deficiency</td>\n      <td>cytochrome P450 family 11 subfamily B member 2</td>\n    </tr>\n    <tr>\n      <th>765011</th>\n      <td>2,4-Dienoyl-CoA Reductase Deficiency</td>\n      <td>2,4-dienoyl-CoA reductase 1, mitochondrial</td>\n    </tr>\n    <tr>\n      <th>8372182</th>\n      <td>2-Hydroxyglutaricaciduria</td>\n      <td>isocitrate dehydrogenase 1 (NADP+)</td>\n    </tr>\n    <tr>\n      <th>7849073</th>\n      <td>2-Hydroxyglutaricaciduria</td>\n      <td>D-2-hydroxyglutarate dehydrogenase</td>\n    </tr>\n    <tr>\n      <th>...</th>\n      <td>...</td>\n      <td>...</td>\n    </tr>\n    <tr>\n      <th>8290404</th>\n      <td>von Hippel-Lindau Disease</td>\n      <td>von Hippel-Lindau tumor suppressor</td>\n    </tr>\n    <tr>\n      <th>8022657</th>\n      <td>von Hippel-Lindau Disease</td>\n      <td>cyclin D1</td>\n    </tr>\n    <tr>\n      <th>7453662</th>\n      <td>von Willebrand Disease, Type 1</td>\n      <td>von Willebrand factor</td>\n    </tr>\n    <tr>\n      <th>14658889</th>\n      <td>von Willebrand Disease, Type 2</td>\n      <td>von Willebrand factor</td>\n    </tr>\n    <tr>\n      <th>4039072</th>\n      <td>von Willebrand Disease, Type 3</td>\n      <td>von Willebrand factor</td>\n    </tr>\n  </tbody>\n</table>\n<p>14875871 rows × 2 columns</p>\n</div>"
     },
     "execution_count": 281,
     "metadata": {},
     "output_type": "execute_result"
    }
   ],
   "source": [
    "disease_gene_df.sort_values(by='disease_name')"
   ],
   "metadata": {
    "collapsed": false,
    "ExecuteTime": {
     "end_time": "2024-03-31T20:48:08.537644900Z",
     "start_time": "2024-03-31T20:47:43.131146500Z"
    }
   },
   "id": "b1f743fff64b2908"
  },
  {
   "cell_type": "code",
   "execution_count": 282,
   "outputs": [
    {
     "data": {
      "text/plain": "                                      disease_name          drug_name\n114711  17-Hydroxysteroid Dehydrogenase Deficiency       Testosterone\n140796  17-Hydroxysteroid Dehydrogenase Deficiency          Tamoxifen\n348239  17-Hydroxysteroid Dehydrogenase Deficiency  Ethinyl Estradiol\n198150  17-Hydroxysteroid Dehydrogenase Deficiency  4-Androstenedione\n360841  17-Hydroxysteroid Dehydrogenase Deficiency          Vitamin C\n...                                            ...                ...\n279334              von Willebrand Disease, Type 3          Estradiol\n448941              von Willebrand Disease, Type 3       Atorvastatin\n135143              von Willebrand Disease, Type 3       Mifepristone\n397589              von Willebrand Disease, Type 3         Calcitriol\n246234              von Willebrand Disease, Type 3        Simvastatin\n\n[456820 rows x 2 columns]",
      "text/html": "<div>\n<style scoped>\n    .dataframe tbody tr th:only-of-type {\n        vertical-align: middle;\n    }\n\n    .dataframe tbody tr th {\n        vertical-align: top;\n    }\n\n    .dataframe thead th {\n        text-align: right;\n    }\n</style>\n<table border=\"1\" class=\"dataframe\">\n  <thead>\n    <tr style=\"text-align: right;\">\n      <th></th>\n      <th>disease_name</th>\n      <th>drug_name</th>\n    </tr>\n  </thead>\n  <tbody>\n    <tr>\n      <th>114711</th>\n      <td>17-Hydroxysteroid Dehydrogenase Deficiency</td>\n      <td>Testosterone</td>\n    </tr>\n    <tr>\n      <th>140796</th>\n      <td>17-Hydroxysteroid Dehydrogenase Deficiency</td>\n      <td>Tamoxifen</td>\n    </tr>\n    <tr>\n      <th>348239</th>\n      <td>17-Hydroxysteroid Dehydrogenase Deficiency</td>\n      <td>Ethinyl Estradiol</td>\n    </tr>\n    <tr>\n      <th>198150</th>\n      <td>17-Hydroxysteroid Dehydrogenase Deficiency</td>\n      <td>4-Androstenedione</td>\n    </tr>\n    <tr>\n      <th>360841</th>\n      <td>17-Hydroxysteroid Dehydrogenase Deficiency</td>\n      <td>Vitamin C</td>\n    </tr>\n    <tr>\n      <th>...</th>\n      <td>...</td>\n      <td>...</td>\n    </tr>\n    <tr>\n      <th>279334</th>\n      <td>von Willebrand Disease, Type 3</td>\n      <td>Estradiol</td>\n    </tr>\n    <tr>\n      <th>448941</th>\n      <td>von Willebrand Disease, Type 3</td>\n      <td>Atorvastatin</td>\n    </tr>\n    <tr>\n      <th>135143</th>\n      <td>von Willebrand Disease, Type 3</td>\n      <td>Mifepristone</td>\n    </tr>\n    <tr>\n      <th>397589</th>\n      <td>von Willebrand Disease, Type 3</td>\n      <td>Calcitriol</td>\n    </tr>\n    <tr>\n      <th>246234</th>\n      <td>von Willebrand Disease, Type 3</td>\n      <td>Simvastatin</td>\n    </tr>\n  </tbody>\n</table>\n<p>456820 rows × 2 columns</p>\n</div>"
     },
     "execution_count": 282,
     "metadata": {},
     "output_type": "execute_result"
    }
   ],
   "source": [
    "disease_drug_df.sort_values(by='disease_name')"
   ],
   "metadata": {
    "collapsed": false,
    "ExecuteTime": {
     "end_time": "2024-03-31T20:48:09.066272600Z",
     "start_time": "2024-03-31T20:48:08.534635200Z"
    }
   },
   "id": "1e357269823f8ac2"
  },
  {
   "cell_type": "code",
   "execution_count": null,
   "outputs": [],
   "source": [],
   "metadata": {
    "collapsed": false
   },
   "id": "3f8ca58832fc06d8"
  }
 ],
 "metadata": {
  "kernelspec": {
   "display_name": "Python 3",
   "language": "python",
   "name": "python3"
  },
  "language_info": {
   "codemirror_mode": {
    "name": "ipython",
    "version": 2
   },
   "file_extension": ".py",
   "mimetype": "text/x-python",
   "name": "python",
   "nbconvert_exporter": "python",
   "pygments_lexer": "ipython2",
   "version": "2.7.6"
  }
 },
 "nbformat": 4,
 "nbformat_minor": 5
}
