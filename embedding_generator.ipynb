{
 "cells": [
  {
   "cell_type": "code",
   "execution_count": 122,
   "id": "initial_id",
   "metadata": {
    "collapsed": true,
    "ExecuteTime": {
     "end_time": "2024-04-18T03:44:34.705676300Z",
     "start_time": "2024-04-18T03:44:34.671119400Z"
    }
   },
   "outputs": [],
   "source": [
    "import numpy as np\n",
    "import pandas as pd\n",
    "from transformers import AutoTokenizer, AutoModel\n",
    "import torch"
   ]
  },
  {
   "cell_type": "code",
   "execution_count": 123,
   "outputs": [],
   "source": [
    "device = torch.device('cuda') if torch.cuda.is_available() else torch.device('cpu')"
   ],
   "metadata": {
    "collapsed": false,
    "ExecuteTime": {
     "end_time": "2024-04-18T03:44:35.749007300Z",
     "start_time": "2024-04-18T03:44:35.708844200Z"
    }
   },
   "id": "2f6ead7c59a214a4"
  },
  {
   "cell_type": "code",
   "execution_count": 124,
   "outputs": [],
   "source": [
    "drug_gene_df = pd.read_csv('./Data/preprocessed_data/drug_gene.csv')\n",
    "drugs = list(drug_gene_df.drug_name.unique())\n",
    "genes = list(drug_gene_df.gene_name.unique())\n",
    "disease_gene_df = pd.read_csv('./Data/preprocessed_data/disease_gene.csv')\n",
    "diseases = list(disease_gene_df.disease_name.unique())\n",
    "genes.extend(list(disease_gene_df.gene_name.unique()))\n",
    "disease_drug_df = pd.read_csv('./Data/preprocessed_data/disease_drug.csv')\n",
    "diseases.extend(list(disease_drug_df.disease_name.unique()))\n",
    "drugs.extend(list(disease_drug_df.drug_name.unique()))\n",
    "drug_drug_df = pd.read_csv('./Data/preprocessed_data/drug_drug.csv')\n",
    "drugs.extend(list(drug_drug_df.drug_1_name.unique()))\n",
    "drugs.extend(list(drug_drug_df.drug_2_name.unique()))"
   ],
   "metadata": {
    "collapsed": false,
    "ExecuteTime": {
     "end_time": "2024-04-18T03:45:00.054861500Z",
     "start_time": "2024-04-18T03:44:37.377548100Z"
    }
   },
   "id": "fee9b70b817d21b9"
  },
  {
   "cell_type": "code",
   "execution_count": 125,
   "outputs": [],
   "source": [
    "drugs = list(set(drugs))\n",
    "genes = list(set(genes))\n",
    "diseases = list(set(diseases))"
   ],
   "metadata": {
    "collapsed": false,
    "ExecuteTime": {
     "end_time": "2024-04-18T03:45:46.898237800Z",
     "start_time": "2024-04-18T03:45:46.869561700Z"
    }
   },
   "id": "6bbe3b5dbbe56616"
  },
  {
   "cell_type": "code",
   "execution_count": 126,
   "outputs": [
    {
     "data": {
      "text/plain": "(5267, 17682, 5484)"
     },
     "execution_count": 126,
     "metadata": {},
     "output_type": "execute_result"
    }
   ],
   "source": [
    "len(drugs), len(genes), len(diseases)"
   ],
   "metadata": {
    "collapsed": false,
    "ExecuteTime": {
     "end_time": "2024-04-18T03:45:47.478242700Z",
     "start_time": "2024-04-18T03:45:47.435191100Z"
    }
   },
   "id": "234f3200d9e68eec"
  },
  {
   "cell_type": "code",
   "execution_count": 127,
   "outputs": [],
   "source": [
    "def init_model(model_name, checkpoint=None):\n",
    "    if checkpoint is None:\n",
    "        checkpoint = model_name\n",
    "    tokenizer = AutoTokenizer.from_pretrained(model_name)\n",
    "    model = AutoModel.from_pretrained(checkpoint).to(device)\n",
    "    return tokenizer, model"
   ],
   "metadata": {
    "collapsed": false,
    "ExecuteTime": {
     "end_time": "2024-04-18T03:45:49.514899500Z",
     "start_time": "2024-04-18T03:45:49.480411300Z"
    }
   },
   "id": "3a604952fe6b281d"
  },
  {
   "cell_type": "code",
   "execution_count": 128,
   "outputs": [
    {
     "name": "stderr",
     "output_type": "stream",
     "text": [
      "Some weights of the model checkpoint at bert-base-uncased were not used when initializing BertModel: ['cls.predictions.transform.LayerNorm.weight', 'cls.predictions.transform.dense.weight', 'cls.predictions.bias', 'cls.seq_relationship.bias', 'cls.predictions.transform.LayerNorm.bias', 'cls.predictions.transform.dense.bias', 'cls.seq_relationship.weight']\n",
      "- This IS expected if you are initializing BertModel from the checkpoint of a model trained on another task or with another architecture (e.g. initializing a BertForSequenceClassification model from a BertForPreTraining model).\n",
      "- This IS NOT expected if you are initializing BertModel from the checkpoint of a model that you expect to be exactly identical (initializing a BertForSequenceClassification model from a BertForSequenceClassification model).\n",
      "Some weights of the model checkpoint at checkpoint-44000 were not used when initializing BertModel: ['cls.predictions.transform.LayerNorm.weight', 'cls.predictions.transform.dense.weight', 'cls.predictions.bias', 'cls.predictions.decoder.bias', 'cls.predictions.transform.LayerNorm.bias', 'cls.predictions.decoder.weight', 'cls.predictions.transform.dense.bias']\n",
      "- This IS expected if you are initializing BertModel from the checkpoint of a model trained on another task or with another architecture (e.g. initializing a BertForSequenceClassification model from a BertForPreTraining model).\n",
      "- This IS NOT expected if you are initializing BertModel from the checkpoint of a model that you expect to be exactly identical (initializing a BertForSequenceClassification model from a BertForSequenceClassification model).\n",
      "Some weights of BertModel were not initialized from the model checkpoint at checkpoint-44000 and are newly initialized: ['bert.pooler.dense.weight', 'bert.pooler.dense.bias']\n",
      "You should probably TRAIN this model on a down-stream task to be able to use it for predictions and inference.\n"
     ]
    }
   ],
   "source": [
    "tokenizer, model = init_model('bert-base-uncased')\n",
    "cutomized_tokenizer, customized_model = init_model('bert-base-uncased','checkpoint-44000')"
   ],
   "metadata": {
    "collapsed": false,
    "ExecuteTime": {
     "end_time": "2024-04-18T03:46:01.538418600Z",
     "start_time": "2024-04-18T03:45:54.618292700Z"
    }
   },
   "id": "b546feb939f2ebfb"
  },
  {
   "cell_type": "code",
   "execution_count": 129,
   "outputs": [],
   "source": [
    "from tqdm.notebook import tqdm\n",
    "\n",
    "def get_embeddings(text_list, tokenizer, model, batch_size=32):\n",
    "    embeddings = np.array([])\n",
    "    for i in tqdm(range(0, len(text_list), batch_size)):\n",
    "        batch = text_list[i:i+batch_size]\n",
    "        encoded_input = tokenizer(batch, padding=True, truncation=True, return_tensors=\"pt\").to(device)\n",
    "        attn_mask = encoded_input['attention_mask'].cpu()\n",
    "        with torch.no_grad():\n",
    "            model_output = model(**encoded_input)[0].squeeze(0)\n",
    "        embeds = model_output.cpu()\n",
    "        # take mean of embeddings of all tokens in each sentence in the batch use attn_mask to ignore padding\n",
    "        embeds = (embeds * attn_mask.unsqueeze(2)).sum(1) / attn_mask.sum(1).unsqueeze(1)\n",
    "        if embeddings.size == 0:\n",
    "            embeddings = embeds\n",
    "        else:\n",
    "            embeddings = np.concatenate((embeddings, embeds), axis=0)\n",
    "    return embeddings"
   ],
   "metadata": {
    "collapsed": false,
    "ExecuteTime": {
     "end_time": "2024-04-18T03:46:03.538759400Z",
     "start_time": "2024-04-18T03:46:03.517171500Z"
    }
   },
   "id": "600e12889c958084"
  },
  {
   "cell_type": "code",
   "execution_count": 130,
   "outputs": [
    {
     "data": {
      "text/plain": "  0%|          | 0/83 [00:00<?, ?it/s]",
      "application/vnd.jupyter.widget-view+json": {
       "version_major": 2,
       "version_minor": 0,
       "model_id": "f1409fe3836444eeadaa17adcadb6e53"
      }
     },
     "metadata": {},
     "output_type": "display_data"
    }
   ],
   "source": [
    "# drug_embeddings = get_embeddings(drugs, tokenizer, model, batch_size=64)\n",
    "custom_drug_embeddings = get_embeddings(drugs, cutomized_tokenizer, customized_model, batch_size=64)"
   ],
   "metadata": {
    "collapsed": false,
    "ExecuteTime": {
     "end_time": "2024-04-18T03:47:15.213555300Z",
     "start_time": "2024-04-18T03:46:14.661094300Z"
    }
   },
   "id": "63cf46f74f29febe"
  },
  {
   "cell_type": "code",
   "execution_count": 131,
   "outputs": [
    {
     "data": {
      "text/plain": "  0%|          | 0/277 [00:00<?, ?it/s]",
      "application/vnd.jupyter.widget-view+json": {
       "version_major": 2,
       "version_minor": 0,
       "model_id": "74a26b549c034dc29e7d980b33cb6907"
      }
     },
     "metadata": {},
     "output_type": "display_data"
    },
    {
     "data": {
      "text/plain": "  0%|          | 0/86 [00:00<?, ?it/s]",
      "application/vnd.jupyter.widget-view+json": {
       "version_major": 2,
       "version_minor": 0,
       "model_id": "98c465b10f8a4a2488f07d98d490628f"
      }
     },
     "metadata": {},
     "output_type": "display_data"
    }
   ],
   "source": [
    "# gene_embeddings = get_embeddings(genes, tokenizer, model, batch_size=64)\n",
    "custom_gene_embeddings = get_embeddings(genes, cutomized_tokenizer, customized_model, batch_size=64)\n",
    "# disease_embeddings = get_embeddings(diseases, tokenizer, model, batch_size=64)\n",
    "custom_disease_embeddings = get_embeddings(diseases, cutomized_tokenizer, customized_model, batch_size=64)"
   ],
   "metadata": {
    "collapsed": false,
    "ExecuteTime": {
     "end_time": "2024-04-18T03:48:24.567499900Z",
     "start_time": "2024-04-18T03:47:15.219779500Z"
    }
   },
   "id": "30d232832e812f9e"
  },
  {
   "cell_type": "code",
   "execution_count": 132,
   "outputs": [],
   "source": [
    "# np.save('./Data/embeddings/drug_embeddings.npy', drug_embeddings)\n",
    "# np.save('./Data/embeddings/gene_embeddings.npy', gene_embeddings)\n",
    "# np.save('./Data/embeddings/disease_embeddings.npy', disease_embeddings)\n",
    "\n",
    "np.save('./Data/embeddings/custom_drug_embeddings_2.npy', custom_drug_embeddings)\n",
    "np.save('./Data/embeddings/custom_gene_embeddings_2.npy', custom_gene_embeddings)\n",
    "np.save('./Data/embeddings/custom_disease_embeddings_2.npy', custom_disease_embeddings)\n"
   ],
   "metadata": {
    "collapsed": false,
    "ExecuteTime": {
     "end_time": "2024-04-18T03:48:31.150929900Z",
     "start_time": "2024-04-18T03:48:30.964566600Z"
    }
   },
   "id": "c5367afcf16db9c6"
  },
  {
   "cell_type": "code",
   "execution_count": 133,
   "outputs": [
    {
     "data": {
      "text/plain": "((17682, 768), (17682, 768))"
     },
     "execution_count": 133,
     "metadata": {},
     "output_type": "execute_result"
    }
   ],
   "source": [
    "gene_embeddings.shape, custom_gene_embeddings.shape"
   ],
   "metadata": {
    "collapsed": false,
    "ExecuteTime": {
     "end_time": "2024-04-18T03:48:34.838734500Z",
     "start_time": "2024-04-18T03:48:34.794695900Z"
    }
   },
   "id": "4468cd970d496355"
  },
  {
   "cell_type": "code",
   "execution_count": 99,
   "outputs": [],
   "source": [
    "gene_idx_map = {gene: i for i, gene in enumerate(genes)}\n",
    "drug_idx_map = {drug: i for i, drug in enumerate(drugs)}\n",
    "disease_idx_map = {disease: i for i, disease in enumerate(diseases)}"
   ],
   "metadata": {
    "collapsed": false,
    "ExecuteTime": {
     "end_time": "2024-04-16T18:36:46.023101800Z",
     "start_time": "2024-04-16T18:36:45.998035200Z"
    }
   },
   "id": "1125ab47fc1eaa3a"
  },
  {
   "cell_type": "code",
   "execution_count": 100,
   "outputs": [],
   "source": [
    "import json\n",
    "\n",
    "with open('./Data/embeddings/gene_idx_map.json', 'w') as f:\n",
    "    json.dump(gene_idx_map, f)\n",
    "with open('./Data/embeddings/drug_idx_map.json', 'w') as f:\n",
    "    json.dump(drug_idx_map, f)\n",
    "with open('./Data/embeddings/disease_idx_map.json', 'w') as f:\n",
    "    json.dump(disease_idx_map, f)"
   ],
   "metadata": {
    "collapsed": false,
    "ExecuteTime": {
     "end_time": "2024-04-16T18:36:47.193789500Z",
     "start_time": "2024-04-16T18:36:47.096229800Z"
    }
   },
   "id": "fb4a4ed57f4131ae"
  },
  {
   "cell_type": "code",
   "execution_count": 119,
   "outputs": [
    {
     "data": {
      "text/plain": "array(['Horse Diseases', 'Bone Diseases, Endocrine', 'Hemifacial Spasm',\n       'Splenomegaly', 'Mental Retardation, X-Linked 72'], dtype='<U115')"
     },
     "execution_count": 119,
     "metadata": {},
     "output_type": "execute_result"
    }
   ],
   "source": [
    "np.random.choice(diseases, 5, replace=False)"
   ],
   "metadata": {
    "collapsed": false,
    "ExecuteTime": {
     "end_time": "2024-04-16T19:58:57.127540300Z",
     "start_time": "2024-04-16T19:58:57.098733800Z"
    }
   },
   "id": "59704300555c6376"
  },
  {
   "cell_type": "code",
   "execution_count": 121,
   "outputs": [
    {
     "data": {
      "text/plain": "            drug_1_name     drug_2_name\n0            Vardenafil     Telmisartan\n1             Clonidine  Pentoxifylline\n2          Clomipramine      Mirabegron\n3           Desipramine      Perampanel\n4                L-DOPA     Hydralazine\n5    Interferon alfa-n3       Methadone\n6              Caffeine     Deferasirox\n7          Flurbiprofen   Acenocoumarol\n8     Dextroamphetamine    Fluspirilene\n9           Deferasirox       Tolvaptan\n10          Minocycline         Doxepin\n11           Torasemide   Phenobarbital\n12           Octreotide       Quinidine\n13  Fondaparinux sodium         Heparin\n14              Ethanol        Quazepam\n15           Phenelzine       Bretylium\n16          Brimonidine       Quinapril\n17         Progesterone        Warfarin\n18       Norepinephrine  Dihydrocodeine\n19            Abciximab        Sulindac",
      "text/html": "<div>\n<style scoped>\n    .dataframe tbody tr th:only-of-type {\n        vertical-align: middle;\n    }\n\n    .dataframe tbody tr th {\n        vertical-align: top;\n    }\n\n    .dataframe thead th {\n        text-align: right;\n    }\n</style>\n<table border=\"1\" class=\"dataframe\">\n  <thead>\n    <tr style=\"text-align: right;\">\n      <th></th>\n      <th>drug_1_name</th>\n      <th>drug_2_name</th>\n    </tr>\n  </thead>\n  <tbody>\n    <tr>\n      <th>0</th>\n      <td>Vardenafil</td>\n      <td>Telmisartan</td>\n    </tr>\n    <tr>\n      <th>1</th>\n      <td>Clonidine</td>\n      <td>Pentoxifylline</td>\n    </tr>\n    <tr>\n      <th>2</th>\n      <td>Clomipramine</td>\n      <td>Mirabegron</td>\n    </tr>\n    <tr>\n      <th>3</th>\n      <td>Desipramine</td>\n      <td>Perampanel</td>\n    </tr>\n    <tr>\n      <th>4</th>\n      <td>L-DOPA</td>\n      <td>Hydralazine</td>\n    </tr>\n    <tr>\n      <th>5</th>\n      <td>Interferon alfa-n3</td>\n      <td>Methadone</td>\n    </tr>\n    <tr>\n      <th>6</th>\n      <td>Caffeine</td>\n      <td>Deferasirox</td>\n    </tr>\n    <tr>\n      <th>7</th>\n      <td>Flurbiprofen</td>\n      <td>Acenocoumarol</td>\n    </tr>\n    <tr>\n      <th>8</th>\n      <td>Dextroamphetamine</td>\n      <td>Fluspirilene</td>\n    </tr>\n    <tr>\n      <th>9</th>\n      <td>Deferasirox</td>\n      <td>Tolvaptan</td>\n    </tr>\n    <tr>\n      <th>10</th>\n      <td>Minocycline</td>\n      <td>Doxepin</td>\n    </tr>\n    <tr>\n      <th>11</th>\n      <td>Torasemide</td>\n      <td>Phenobarbital</td>\n    </tr>\n    <tr>\n      <th>12</th>\n      <td>Octreotide</td>\n      <td>Quinidine</td>\n    </tr>\n    <tr>\n      <th>13</th>\n      <td>Fondaparinux sodium</td>\n      <td>Heparin</td>\n    </tr>\n    <tr>\n      <th>14</th>\n      <td>Ethanol</td>\n      <td>Quazepam</td>\n    </tr>\n    <tr>\n      <th>15</th>\n      <td>Phenelzine</td>\n      <td>Bretylium</td>\n    </tr>\n    <tr>\n      <th>16</th>\n      <td>Brimonidine</td>\n      <td>Quinapril</td>\n    </tr>\n    <tr>\n      <th>17</th>\n      <td>Progesterone</td>\n      <td>Warfarin</td>\n    </tr>\n    <tr>\n      <th>18</th>\n      <td>Norepinephrine</td>\n      <td>Dihydrocodeine</td>\n    </tr>\n    <tr>\n      <th>19</th>\n      <td>Abciximab</td>\n      <td>Sulindac</td>\n    </tr>\n  </tbody>\n</table>\n</div>"
     },
     "execution_count": 121,
     "metadata": {},
     "output_type": "execute_result"
    }
   ],
   "source": [
    "drug_drug_df.head(20)"
   ],
   "metadata": {
    "collapsed": false,
    "ExecuteTime": {
     "end_time": "2024-04-16T20:16:14.022041Z",
     "start_time": "2024-04-16T20:16:13.981836700Z"
    }
   },
   "id": "a92e5dca0b5f564"
  },
  {
   "cell_type": "code",
   "execution_count": null,
   "outputs": [],
   "source": [],
   "metadata": {
    "collapsed": false
   },
   "id": "1755a6eb80610cd"
  }
 ],
 "metadata": {
  "kernelspec": {
   "display_name": "Python 3",
   "language": "python",
   "name": "python3"
  },
  "language_info": {
   "codemirror_mode": {
    "name": "ipython",
    "version": 2
   },
   "file_extension": ".py",
   "mimetype": "text/x-python",
   "name": "python",
   "nbconvert_exporter": "python",
   "pygments_lexer": "ipython2",
   "version": "2.7.6"
  }
 },
 "nbformat": 4,
 "nbformat_minor": 5
}
