{
 "cells": [
  {
   "cell_type": "code",
   "execution_count": 2,
   "id": "initial_id",
   "metadata": {
    "collapsed": true,
    "ExecuteTime": {
     "end_time": "2024-04-15T20:29:30.713808800Z",
     "start_time": "2024-04-15T20:29:21.843418800Z"
    }
   },
   "outputs": [],
   "source": [
    "from transformers import AutoTokenizer, AutoModel\n",
    "import torch"
   ]
  },
  {
   "cell_type": "code",
   "execution_count": 3,
   "outputs": [
    {
     "name": "stderr",
     "output_type": "stream",
     "text": [
      "Some weights of the model checkpoint at bert-base-uncased were not used when initializing BertModel: ['cls.seq_relationship.weight', 'cls.predictions.transform.dense.bias', 'cls.predictions.bias', 'cls.predictions.transform.LayerNorm.weight', 'cls.predictions.transform.LayerNorm.bias', 'cls.seq_relationship.bias', 'cls.predictions.transform.dense.weight']\n",
      "- This IS expected if you are initializing BertModel from the checkpoint of a model trained on another task or with another architecture (e.g. initializing a BertForSequenceClassification model from a BertForPreTraining model).\n",
      "- This IS NOT expected if you are initializing BertModel from the checkpoint of a model that you expect to be exactly identical (initializing a BertForSequenceClassification model from a BertForSequenceClassification model).\n"
     ]
    }
   ],
   "source": [
    "model = AutoModel.from_pretrained('bert-base-uncased')\n",
    "\n",
    "tokenizer = AutoTokenizer.from_pretrained('bert-base-uncased')\n"
   ],
   "metadata": {
    "collapsed": false,
    "ExecuteTime": {
     "end_time": "2024-04-15T20:29:50.226362Z",
     "start_time": "2024-04-15T20:29:45.507436Z"
    }
   },
   "id": "8408b3ae15c45c35"
  },
  {
   "cell_type": "code",
   "execution_count": 4,
   "outputs": [],
   "source": [
    "text = ['glycine cleavage system protein H',\n",
    " 'interacts_with',\n",
    " 'Calcium ion',\n",
    " 'interacts_with',\n",
    " 'HtrA serine peptidase 2',\n",
    " 'interacts_with',\n",
    " 'Hematologic Diseases']\n",
    "\n",
    "text = tokenizer.sep_token.join(text)\n",
    "\n",
    "all_ents = ''.join(text.split(tokenizer.sep_token)).split('interacts_with')"
   ],
   "metadata": {
    "collapsed": false,
    "ExecuteTime": {
     "end_time": "2024-04-15T20:30:33.033299600Z",
     "start_time": "2024-04-15T20:30:33.004457Z"
    }
   },
   "id": "d38d5c3aac795557"
  },
  {
   "cell_type": "code",
   "execution_count": 27,
   "outputs": [],
   "source": [
    "\n",
    "offsets = {ent: (text.find(ent), text.find(ent)+len(ent)) for ent in all_ents}\n",
    "\n",
    "tokenized_data =  tokenizer(text, return_offsets_mapping=True, return_tensors = 'pt')"
   ],
   "metadata": {
    "collapsed": false,
    "ExecuteTime": {
     "end_time": "2024-04-15T20:38:43.174097700Z",
     "start_time": "2024-04-15T20:38:43.128225500Z"
    }
   },
   "id": "b22006ede244dd9f"
  },
  {
   "cell_type": "code",
   "execution_count": 28,
   "outputs": [],
   "source": [
    "inputs = {k:v for k, v in tokenized_data.items() if k!='offset_mapping'}\n",
    "\n",
    "with torch.no_grad():\n",
    "    model_out = model(**inputs)"
   ],
   "metadata": {
    "collapsed": false,
    "ExecuteTime": {
     "end_time": "2024-04-15T20:38:45.155353900Z",
     "start_time": "2024-04-15T20:38:43.484991500Z"
    }
   },
   "id": "19213c76b6492469"
  },
  {
   "cell_type": "code",
   "execution_count": 29,
   "outputs": [],
   "source": [
    "lhs = model_out[0]\n",
    "lhs = lhs.reshape(-1,768)"
   ],
   "metadata": {
    "collapsed": false,
    "ExecuteTime": {
     "end_time": "2024-04-15T20:38:45.180770700Z",
     "start_time": "2024-04-15T20:38:45.148521800Z"
    }
   },
   "id": "c57057abf7ac3ba4"
  },
  {
   "cell_type": "code",
   "execution_count": 30,
   "outputs": [
    {
     "data": {
      "text/plain": "{'glycine cleavage system protein H': (0, 33),\n 'Calcium ion': (57, 68),\n 'HtrA serine peptidase 2': (92, 115),\n 'Hematologic Diseases': (139, 159)}"
     },
     "execution_count": 30,
     "metadata": {},
     "output_type": "execute_result"
    }
   ],
   "source": [
    "offsets"
   ],
   "metadata": {
    "collapsed": false,
    "ExecuteTime": {
     "end_time": "2024-04-15T20:38:45.197215300Z",
     "start_time": "2024-04-15T20:38:45.164692600Z"
    }
   },
   "id": "bb45f097ee0ae1b8"
  },
  {
   "cell_type": "code",
   "execution_count": 73,
   "outputs": [],
   "source": [
    "def get_embeds(token_offsets, offsets_mapping, last_hidden_state):\n",
    "    offsets_mapping = offsets_mapping.squeeze(0)[1:-1]\n",
    "    embeds = {}\n",
    "    for word, token_offset in token_offsets.items():\n",
    "        start, end = token_offset\n",
    "        new_start = (offsets_mapping[:, 0]==start).nonzero(as_tuple=True)\n",
    "        new_end = (offsets_mapping[:, 1]==end).nonzero(as_tuple=True)\n",
    "        embs = last_hidden_state[new_start[0]+1: new_end[0]+1]\n",
    "        embeds[word] = embs.mean(dim=0)\n",
    "        \n",
    "    return embeds   \n",
    "        "
   ],
   "metadata": {
    "collapsed": false,
    "ExecuteTime": {
     "end_time": "2024-04-15T21:10:51.556223800Z",
     "start_time": "2024-04-15T21:10:51.537187100Z"
    }
   },
   "id": "a0c1f1a343c1a6b4"
  },
  {
   "cell_type": "code",
   "execution_count": 91,
   "outputs": [],
   "source": [
    "embeds = get_embeds(offsets, tokenized_data['offset_mapping'], lhs)"
   ],
   "metadata": {
    "collapsed": false,
    "ExecuteTime": {
     "end_time": "2024-04-15T21:14:47.673796300Z",
     "start_time": "2024-04-15T21:14:47.659639300Z"
    }
   },
   "id": "9c92b8024a024b5c"
  },
  {
   "cell_type": "code",
   "execution_count": 92,
   "outputs": [
    {
     "name": "stdout",
     "output_type": "stream",
     "text": [
      "glycine cleavage system protein H torch.Size([768])\n",
      "Calcium ion torch.Size([768])\n",
      "HtrA serine peptidase 2 torch.Size([768])\n",
      "Hematologic Diseases torch.Size([768])\n"
     ]
    }
   ],
   "source": [
    "for k, v in embeds.items():\n",
    "    print(k, v.shape)"
   ],
   "metadata": {
    "collapsed": false,
    "ExecuteTime": {
     "end_time": "2024-04-15T21:14:47.890418900Z",
     "start_time": "2024-04-15T21:14:47.864243400Z"
    }
   },
   "id": "90fa2d8a8a1994cf"
  },
  {
   "cell_type": "code",
   "execution_count": 88,
   "outputs": [],
   "source": [
    "from sklearn.manifold import TSNE\n",
    "import numpy as np"
   ],
   "metadata": {
    "collapsed": false,
    "ExecuteTime": {
     "end_time": "2024-04-15T21:14:17.850211500Z",
     "start_time": "2024-04-15T21:14:17.840969600Z"
    }
   },
   "id": "68b8eb1d06086e60"
  },
  {
   "cell_type": "code",
   "execution_count": 95,
   "outputs": [
    {
     "name": "stderr",
     "output_type": "stream",
     "text": [
      "C:\\Users\\mihir\\PycharmProjects\\assignment-2-env\\lib\\site-packages\\sklearn\\manifold\\_t_sne.py:783: FutureWarning: The default initialization in TSNE will change from 'random' to 'pca' in 1.2.\n",
      "  FutureWarning,\n",
      "C:\\Users\\mihir\\PycharmProjects\\assignment-2-env\\lib\\site-packages\\sklearn\\manifold\\_t_sne.py:793: FutureWarning: The default learning rate in TSNE will change from 200.0 to 'auto' in 1.2.\n",
      "  FutureWarning,\n"
     ]
    }
   ],
   "source": [
    "tsne = TSNE(n_components=2)\n",
    "# embeds = np.array(list(embeds.values()))\n",
    "\n",
    "embeds = [embeds[k].numpy() for k in sorted(embeds.keys())]\n",
    "tsne_embeds = tsne.fit_transform(embeds)"
   ],
   "metadata": {
    "collapsed": false,
    "ExecuteTime": {
     "end_time": "2024-04-15T21:15:19.368583700Z",
     "start_time": "2024-04-15T21:15:19.237671500Z"
    }
   },
   "id": "2dfcdfb1f63a2322"
  },
  {
   "cell_type": "code",
   "execution_count": 96,
   "outputs": [],
   "source": [
    "import matplotlib.pyplot as plt"
   ],
   "metadata": {
    "collapsed": false,
    "ExecuteTime": {
     "end_time": "2024-04-15T21:15:22.586753700Z",
     "start_time": "2024-04-15T21:15:22.579414600Z"
    }
   },
   "id": "792d78905d5fa52e"
  },
  {
   "cell_type": "code",
   "execution_count": 97,
   "outputs": [
    {
     "data": {
      "text/plain": "<matplotlib.collections.PathCollection at 0x170664c4f08>"
     },
     "execution_count": 97,
     "metadata": {},
     "output_type": "execute_result"
    },
    {
     "data": {
      "text/plain": "<Figure size 640x480 with 1 Axes>",
      "image/png": "[encoded data removed]"
     },
     "metadata": {},
     "output_type": "display_data"
    }
   ],
   "source": [
    "plt.scatter(tsne_embeds[:, 0], tsne_embeds[:, 1])"
   ],
   "metadata": {
    "collapsed": false,
    "ExecuteTime": {
     "end_time": "2024-04-15T21:15:23.364196100Z",
     "start_time": "2024-04-15T21:15:23.116988900Z"
    }
   },
   "id": "3e126481d0eea1f9"
  },
  {
   "cell_type": "code",
   "execution_count": 102,
   "outputs": [
    {
     "name": "stderr",
     "output_type": "stream",
     "text": [
      "Some weights of the model checkpoint at bert-base-uncased were not used when initializing BertModel: ['cls.seq_relationship.weight', 'cls.predictions.transform.dense.bias', 'cls.predictions.bias', 'cls.predictions.transform.LayerNorm.weight', 'cls.predictions.transform.LayerNorm.bias', 'cls.seq_relationship.bias', 'cls.predictions.transform.dense.weight']\n",
      "- This IS expected if you are initializing BertModel from the checkpoint of a model trained on another task or with another architecture (e.g. initializing a BertForSequenceClassification model from a BertForPreTraining model).\n",
      "- This IS NOT expected if you are initializing BertModel from the checkpoint of a model that you expect to be exactly identical (initializing a BertForSequenceClassification model from a BertForSequenceClassification model).\n",
      "C:\\Users\\mihir\\PycharmProjects\\assignment-2-env\\lib\\site-packages\\sklearn\\manifold\\_t_sne.py:793: FutureWarning: The default learning rate in TSNE will change from 200.0 to 'auto' in 1.2.\n",
      "  FutureWarning,\n",
      "C:\\Users\\mihir\\PycharmProjects\\assignment-2-env\\lib\\site-packages\\sklearn\\manifold\\_t_sne.py:986: FutureWarning: The PCA initialization in TSNE will change to have the standard deviation of PC1 equal to 1e-4 in 1.2. This will ensure better convergence.\n",
      "  FutureWarning,\n"
     ]
    },
    {
     "data": {
      "text/plain": "<Figure size 1000x1000 with 1 Axes>",
      "image/png": "[encoded data removed]"
     },
     "metadata": {},
     "output_type": "display_data"
    }
   ],
   "source": [
    "from transformers import AutoTokenizer, AutoModel\n",
    "import torch\n",
    "from sklearn.manifold import TSNE\n",
    "import matplotlib.pyplot as plt\n",
    "import numpy as np\n",
    "\n",
    "def tokenize_text(text, tokenizer):\n",
    "    text = tokenizer.sep_token.join(text)\n",
    "    all_ents = ''.join(text.split(tokenizer.sep_token)).split('interacts_with')\n",
    "    offsets = {ent: (text.find(ent), text.find(ent)+len(ent)) for ent in all_ents}\n",
    "    tokenized_data = tokenizer(text, return_offsets_mapping=True, return_tensors='pt')\n",
    "    return tokenized_data, offsets\n",
    "\n",
    "def get_model_embeddings(model, inputs):\n",
    "    with torch.no_grad():\n",
    "        model_out = model(**inputs)\n",
    "    lhs = model_out.last_hidden_state\n",
    "    lhs = lhs.reshape(-1, 768)\n",
    "    return lhs\n",
    "\n",
    "def get_entity_embeddings(token_offsets, offsets_mapping, last_hidden_state):\n",
    "    offsets_mapping = offsets_mapping.squeeze(0)[1:-1]\n",
    "    embeds = {}\n",
    "    for word, token_offset in token_offsets.items():\n",
    "        start, end = token_offset\n",
    "        new_start = (offsets_mapping[:, 0] == start).nonzero(as_tuple=True)\n",
    "        new_end = (offsets_mapping[:, 1] == end).nonzero(as_tuple=True)\n",
    "        embs = last_hidden_state[new_start[0]+1: new_end[0]+1]\n",
    "        embeds[word] = embs.mean(dim=0)\n",
    "    return embeds\n",
    "\n",
    "def plot_embeddings(embeddings, model_name):\n",
    "    tsne = TSNE(n_components=2, init='pca')\n",
    "    embeds = [embeddings[k].numpy() for k in sorted(embeddings.keys())]\n",
    "    tsne_embeds = tsne.fit_transform(embeds)\n",
    "    plt.figure(figsize=(10, 10))\n",
    "    plt.scatter(tsne_embeds[:, 0], tsne_embeds[:, 1])\n",
    "    plt.legend(model_name, loc='upper right')\n",
    "    for label, x, y in zip(sorted(embeddings.keys()), tsne_embeds[:, 0], tsne_embeds[:, 1]):\n",
    "        plt.annotate(label, xy=(x, y), xytext=(0, 0), textcoords='offset points')\n",
    "    plt.show()\n",
    "\n",
    "def main():\n",
    "    # Initialize model and tokenizer\n",
    "    model_name = 'bert-base-uncased'\n",
    "    tokenizer = AutoTokenizer.from_pretrained(model_name)\n",
    "    model = AutoModel.from_pretrained(model_name)\n",
    "\n",
    "    # Define input text\n",
    "    text = ['glycine cleavage system protein H',\n",
    "            'interacts_with',\n",
    "            'Calcium ion',\n",
    "            'interacts_with',\n",
    "            'HtrA serine peptidase 2',\n",
    "            'interacts_with',\n",
    "            'Hematologic Diseases']\n",
    "\n",
    "    # Tokenize text and get offsets\n",
    "    tokenized_data, offsets = tokenize_text(text, tokenizer)\n",
    "\n",
    "    # Remove 'offset_mapping' from inputs (used in model)\n",
    "    inputs = {k: v for k, v in tokenized_data.items() if k != 'offset_mapping'}\n",
    "\n",
    "    # Get model embeddings\n",
    "    model_embeddings = get_model_embeddings(model, inputs)\n",
    "\n",
    "    # Get entity embeddings\n",
    "    entity_embeddings = get_entity_embeddings(offsets, tokenized_data['offset_mapping'], model_embeddings)\n",
    "\n",
    "    # Plot embeddings using t-SNE\n",
    "    plot_embeddings(entity_embeddings, 'BERT')\n",
    "\n",
    "if __name__ == \"__main__\":\n",
    "    main()\n"
   ],
   "metadata": {
    "collapsed": false,
    "ExecuteTime": {
     "end_time": "2024-04-15T21:20:27.590087Z",
     "start_time": "2024-04-15T21:20:26.128151700Z"
    }
   },
   "id": "1f286f76763a1fb7"
  },
  {
   "cell_type": "code",
   "execution_count": null,
   "outputs": [],
   "source": [],
   "metadata": {
    "collapsed": false
   },
   "id": "1d16fe4b377a22f2"
  }
 ],
 "metadata": {
  "kernelspec": {
   "display_name": "Python 3",
   "language": "python",
   "name": "python3"
  },
  "language_info": {
   "codemirror_mode": {
    "name": "ipython",
    "version": 2
   },
   "file_extension": ".py",
   "mimetype": "text/x-python",
   "name": "python",
   "nbconvert_exporter": "python",
   "pygments_lexer": "ipython2",
   "version": "2.7.6"
  }
 },
 "nbformat": 4,
 "nbformat_minor": 5
}
