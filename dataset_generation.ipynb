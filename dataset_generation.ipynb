{
 "cells": [
  {
   "cell_type": "code",
   "execution_count": 1,
   "id": "initial_id",
   "metadata": {
    "collapsed": true,
    "ExecuteTime": {
     "end_time": "2024-04-02T01:40:52.529972300Z",
     "start_time": "2024-04-02T01:40:51.628565400Z"
    }
   },
   "outputs": [],
   "source": [
    "import pandas as pd\n",
    "import numpy as np"
   ]
  },
  {
   "cell_type": "code",
   "execution_count": 2,
   "outputs": [],
   "source": [
    "REL = 'interacts_with'"
   ],
   "metadata": {
    "collapsed": false,
    "ExecuteTime": {
     "end_time": "2024-04-02T01:40:54.155005700Z",
     "start_time": "2024-04-02T01:40:53.907837300Z"
    }
   },
   "id": "9c38547690eee145"
  },
  {
   "cell_type": "code",
   "execution_count": 3,
   "outputs": [],
   "source": [
    "drug_gene_df = pd.read_csv('./Data/preprocessed_data/drug_gene.csv')\n",
    "disease_gene_df = pd.read_csv('./Data/preprocessed_data/disease_gene.csv')\n",
    "disease_drug_df = pd.read_csv('./Data/preprocessed_data/disease_drug.csv')\n",
    "drug_drug_df = pd.read_csv('./Data/preprocessed_data/drug_drug.csv')"
   ],
   "metadata": {
    "collapsed": false,
    "ExecuteTime": {
     "end_time": "2024-04-02T01:41:09.493072100Z",
     "start_time": "2024-04-02T01:40:55.113441400Z"
    }
   },
   "id": "292afd417819ded0"
  },
  {
   "cell_type": "code",
   "execution_count": 4,
   "outputs": [],
   "source": [
    "drug_gene_map = drug_gene_df.groupby('drug_name')['gene_name'].agg(set).agg(list).to_dict()\n",
    "gene_drug_map = drug_gene_df.groupby('gene_name')['drug_name'].agg(set).agg(list).to_dict()\n"
   ],
   "metadata": {
    "collapsed": false,
    "ExecuteTime": {
     "end_time": "2024-04-02T01:41:09.679336500Z",
     "start_time": "2024-04-02T01:41:09.498073500Z"
    }
   },
   "id": "cd3e0313994cb6ae"
  },
  {
   "cell_type": "code",
   "execution_count": 5,
   "outputs": [
    {
     "data": {
      "text/plain": "               disease_name                                          gene_name\n0                 Gastritis       diphosphoinositol pentakisphosphate kinase 2\n1               Lung Injury           pregnancy specific beta-1-glycoprotein 1\n2       Intestinal Diseases                KH-type splicing regulatory protein\n3          Tongue Neoplasms  leukocyte associated immunoglobulin like recep...\n4  Takotsubo Cardiomyopathy                            tribbles pseudokinase 1",
      "text/html": "<div>\n<style scoped>\n    .dataframe tbody tr th:only-of-type {\n        vertical-align: middle;\n    }\n\n    .dataframe tbody tr th {\n        vertical-align: top;\n    }\n\n    .dataframe thead th {\n        text-align: right;\n    }\n</style>\n<table border=\"1\" class=\"dataframe\">\n  <thead>\n    <tr style=\"text-align: right;\">\n      <th></th>\n      <th>disease_name</th>\n      <th>gene_name</th>\n    </tr>\n  </thead>\n  <tbody>\n    <tr>\n      <th>0</th>\n      <td>Gastritis</td>\n      <td>diphosphoinositol pentakisphosphate kinase 2</td>\n    </tr>\n    <tr>\n      <th>1</th>\n      <td>Lung Injury</td>\n      <td>pregnancy specific beta-1-glycoprotein 1</td>\n    </tr>\n    <tr>\n      <th>2</th>\n      <td>Intestinal Diseases</td>\n      <td>KH-type splicing regulatory protein</td>\n    </tr>\n    <tr>\n      <th>3</th>\n      <td>Tongue Neoplasms</td>\n      <td>leukocyte associated immunoglobulin like recep...</td>\n    </tr>\n    <tr>\n      <th>4</th>\n      <td>Takotsubo Cardiomyopathy</td>\n      <td>tribbles pseudokinase 1</td>\n    </tr>\n  </tbody>\n</table>\n</div>"
     },
     "execution_count": 5,
     "metadata": {},
     "output_type": "execute_result"
    }
   ],
   "source": [
    "disease_gene_df.head()"
   ],
   "metadata": {
    "collapsed": false,
    "ExecuteTime": {
     "end_time": "2024-04-02T01:41:09.722683300Z",
     "start_time": "2024-04-02T01:41:09.682339900Z"
    }
   },
   "id": "26cd5427a5b90220"
  },
  {
   "cell_type": "code",
   "execution_count": 6,
   "outputs": [],
   "source": [
    "disease_gene_map = disease_gene_df.groupby('disease_name')['gene_name'].agg(set).agg(list).to_dict()\n",
    "gene_disease_map = disease_gene_df.groupby('gene_name')['disease_name'].agg(set).agg(list).to_dict()"
   ],
   "metadata": {
    "collapsed": false,
    "ExecuteTime": {
     "end_time": "2024-04-02T01:41:34.143728600Z",
     "start_time": "2024-04-02T01:41:09.714612600Z"
    }
   },
   "id": "7e4a512fb461bc11"
  },
  {
   "cell_type": "code",
   "execution_count": 25,
   "outputs": [
    {
     "data": {
      "text/plain": "                            disease_name  \\\n0    Glomerulosclerosis, Focal Segmental   \n1                            Neutropenia   \n2               Albinism, Oculocutaneous   \n3                            Hypokinesia   \n4  Multiple Endocrine Neoplasia, Type IV   \n\n                                    drug_name  \n0                               Carbamazepine  \n1                                  Atazanavir  \n2  5-Hydroxy-2-(Hydroxymethyl)-4h-Pyran-4-One  \n3                               Levothyroxine  \n4                                 Simvastatin  ",
      "text/html": "<div>\n<style scoped>\n    .dataframe tbody tr th:only-of-type {\n        vertical-align: middle;\n    }\n\n    .dataframe tbody tr th {\n        vertical-align: top;\n    }\n\n    .dataframe thead th {\n        text-align: right;\n    }\n</style>\n<table border=\"1\" class=\"dataframe\">\n  <thead>\n    <tr style=\"text-align: right;\">\n      <th></th>\n      <th>disease_name</th>\n      <th>drug_name</th>\n    </tr>\n  </thead>\n  <tbody>\n    <tr>\n      <th>0</th>\n      <td>Glomerulosclerosis, Focal Segmental</td>\n      <td>Carbamazepine</td>\n    </tr>\n    <tr>\n      <th>1</th>\n      <td>Neutropenia</td>\n      <td>Atazanavir</td>\n    </tr>\n    <tr>\n      <th>2</th>\n      <td>Albinism, Oculocutaneous</td>\n      <td>5-Hydroxy-2-(Hydroxymethyl)-4h-Pyran-4-One</td>\n    </tr>\n    <tr>\n      <th>3</th>\n      <td>Hypokinesia</td>\n      <td>Levothyroxine</td>\n    </tr>\n    <tr>\n      <th>4</th>\n      <td>Multiple Endocrine Neoplasia, Type IV</td>\n      <td>Simvastatin</td>\n    </tr>\n  </tbody>\n</table>\n</div>"
     },
     "execution_count": 25,
     "metadata": {},
     "output_type": "execute_result"
    }
   ],
   "source": [
    "disease_drug_df.head()"
   ],
   "metadata": {
    "collapsed": false,
    "ExecuteTime": {
     "end_time": "2024-04-02T01:35:18.314292300Z",
     "start_time": "2024-04-02T01:35:18.268626Z"
    }
   },
   "id": "5fae38c08389a18"
  },
  {
   "cell_type": "code",
   "execution_count": 7,
   "outputs": [],
   "source": [
    "disease_drug_map = disease_drug_df.groupby('disease_name')['drug_name'].agg(set).agg(list).to_dict()\n",
    "drug_disease_map = disease_drug_df.groupby('drug_name')['disease_name'].agg(set).agg(list).to_dict()"
   ],
   "metadata": {
    "collapsed": false,
    "ExecuteTime": {
     "end_time": "2024-04-02T01:41:34.399643800Z",
     "start_time": "2024-04-02T01:41:33.907226600Z"
    }
   },
   "id": "6d2f0525b36fbbc8"
  },
  {
   "cell_type": "code",
   "execution_count": 8,
   "outputs": [
    {
     "data": {
      "text/plain": "    drug_1_name     drug_2_name\n0    Vardenafil     Telmisartan\n1     Clonidine  Pentoxifylline\n2  Clomipramine      Mirabegron\n3   Desipramine      Perampanel\n4        L-DOPA     Hydralazine",
      "text/html": "<div>\n<style scoped>\n    .dataframe tbody tr th:only-of-type {\n        vertical-align: middle;\n    }\n\n    .dataframe tbody tr th {\n        vertical-align: top;\n    }\n\n    .dataframe thead th {\n        text-align: right;\n    }\n</style>\n<table border=\"1\" class=\"dataframe\">\n  <thead>\n    <tr style=\"text-align: right;\">\n      <th></th>\n      <th>drug_1_name</th>\n      <th>drug_2_name</th>\n    </tr>\n  </thead>\n  <tbody>\n    <tr>\n      <th>0</th>\n      <td>Vardenafil</td>\n      <td>Telmisartan</td>\n    </tr>\n    <tr>\n      <th>1</th>\n      <td>Clonidine</td>\n      <td>Pentoxifylline</td>\n    </tr>\n    <tr>\n      <th>2</th>\n      <td>Clomipramine</td>\n      <td>Mirabegron</td>\n    </tr>\n    <tr>\n      <th>3</th>\n      <td>Desipramine</td>\n      <td>Perampanel</td>\n    </tr>\n    <tr>\n      <th>4</th>\n      <td>L-DOPA</td>\n      <td>Hydralazine</td>\n    </tr>\n  </tbody>\n</table>\n</div>"
     },
     "execution_count": 8,
     "metadata": {},
     "output_type": "execute_result"
    }
   ],
   "source": [
    "drug_drug_df.head()"
   ],
   "metadata": {
    "collapsed": false,
    "ExecuteTime": {
     "end_time": "2024-04-02T01:41:34.638897300Z",
     "start_time": "2024-04-02T01:41:34.385707400Z"
    }
   },
   "id": "198b76f77af0a0ac"
  },
  {
   "cell_type": "code",
   "execution_count": 9,
   "outputs": [],
   "source": [
    "drug_drug_map = drug_drug_df.groupby('drug_1_name')['drug_2_name'].agg(set).agg(list).to_dict()\n",
    "for drug in drug_drug_df['drug_2_name'].unique():\n",
    "    if drug not in drug_drug_map:\n",
    "        drug_drug_map[drug] = list(set(drug_drug_df[drug_drug_df['drug_2_name'] == drug]['drug_1_name'].to_list()))\n",
    "    else:\n",
    "        drug_drug_map[drug].extend(list(set(drug_drug_df[drug_drug_df['drug_2_name'] == drug]['drug_1_name'].to_list())))"
   ],
   "metadata": {
    "collapsed": false,
    "ExecuteTime": {
     "end_time": "2024-04-02T01:41:39.202925600Z",
     "start_time": "2024-04-02T01:41:34.419877400Z"
    }
   },
   "id": "8a70eddac90df8ce"
  },
  {
   "cell_type": "code",
   "execution_count": 10,
   "outputs": [],
   "source": [
    "def get_walk_size():\n",
    "    return np.random.randint(3, 15)"
   ],
   "metadata": {
    "collapsed": false,
    "ExecuteTime": {
     "end_time": "2024-04-02T01:41:39.239237Z",
     "start_time": "2024-04-02T01:41:39.205925800Z"
    }
   },
   "id": "ad6754fa3d32a286"
  },
  {
   "cell_type": "code",
   "execution_count": 11,
   "outputs": [],
   "source": [
    "connected_nodes = {'drug': ['gene', 'disease', 'drug'],\n",
    "                   'gene': ['disease', 'drug'],\n",
    "                   'disease': ['gene', 'drug']}"
   ],
   "metadata": {
    "collapsed": false,
    "ExecuteTime": {
     "end_time": "2024-04-02T01:41:39.272956900Z",
     "start_time": "2024-04-02T01:41:39.236236900Z"
    }
   },
   "id": "78d3411929836230"
  },
  {
   "cell_type": "code",
   "execution_count": 44,
   "outputs": [],
   "source": [
    "init_node = np.random.choice(list(connected_nodes.keys()))\n",
    "\n",
    "if init_node == 'drug':\n",
    "    init_node_entity = np.random.choice(list(drug_gene_map.keys()))\n",
    "elif init_node == 'gene':\n",
    "    init_node_entity = np.random.choice(list(gene_drug_map.keys()))\n",
    "elif init_node == 'disease':\n",
    "    init_node_entity = np.random.choice(list(disease_gene_map.keys()))\n",
    "\n",
    "\n",
    "def get_next_node_type(node):\n",
    "    next_node_type = np.random.choice(connected_nodes[node])\n",
    "    return next_node_type\n",
    "\n",
    "\n",
    "def get_node_entity(node_type):\n",
    "    if node_type == 'drug':\n",
    "        node_entity = np.random.choice(list(drug_gene_map.keys()))\n",
    "    elif node_type == 'gene':\n",
    "        node_entity = np.random.choice(list(gene_drug_map.keys()))\n",
    "    elif node_type == 'disease':\n",
    "        node_entity = np.random.choice(list(disease_gene_map.keys()))\n",
    "    return node_entity\n",
    "\n",
    "\n",
    "def get_next_node_entity(current_node_type, current_node_entity, next_node_type):\n",
    "    vals = None\n",
    "    if current_node_type == 'drug':\n",
    "        if next_node_type == 'gene':\n",
    "            vals = drug_gene_map.get(current_node_entity, None)\n",
    "        \n",
    "        elif next_node_type == 'disease':\n",
    "            vals = drug_disease_map.get(current_node_entity, None)\n",
    "        elif next_node_type == 'drug':\n",
    "            vals = drug_drug_map.get(current_node_entity, None)\n",
    "\n",
    "    elif current_node_type == 'gene':\n",
    "        if next_node_type == 'disease':\n",
    "            vals = gene_disease_map.get(current_node_entity, None)\n",
    "        elif next_node_type == 'drug':\n",
    "            vals = gene_drug_map.get(current_node_entity, None)\n",
    "\n",
    "    elif current_node_type == 'disease':\n",
    "        if next_node_type == 'gene':\n",
    "            vals = disease_gene_map.get(current_node_entity, None)\n",
    "        elif next_node_type == 'drug':\n",
    "            vals = disease_drug_map.get(current_node_entity, None)\n",
    "    \n",
    "    if vals is None:\n",
    "        return None\n",
    "    else:\n",
    "        return np.random.choice(vals)\n",
    "    "
   ],
   "metadata": {
    "collapsed": false,
    "ExecuteTime": {
     "end_time": "2024-04-02T01:50:41.186002300Z",
     "start_time": "2024-04-02T01:50:41.140382300Z"
    }
   },
   "id": "33039d57ef8f380d"
  },
  {
   "cell_type": "code",
   "execution_count": 79,
   "outputs": [],
   "source": [
    "def get_random_walk(n, node_type, node_entity):\n",
    "    walk = [node_entity]\n",
    "    while len(walk) < n:\n",
    "        next_node_type = get_next_node_type(node_type)\n",
    "        next_node_entity = get_next_node_entity(node_type, node_entity, next_node_type)\n",
    "        if next_node_entity is not None:\n",
    "            walk.append(REL)\n",
    "            walk.append(next_node_entity)\n",
    "            node_type = next_node_type\n",
    "            node_entity = next_node_entity\n",
    "    return walk\n",
    "    "
   ],
   "metadata": {
    "collapsed": false,
    "ExecuteTime": {
     "end_time": "2024-04-02T01:55:10.393735900Z",
     "start_time": "2024-04-02T01:55:10.351220100Z"
    }
   },
   "id": "6d7a34b548d8e533"
  },
  {
   "cell_type": "code",
   "execution_count": 82,
   "outputs": [
    {
     "data": {
      "text/plain": "['glutamate ionotropic receptor NMDA type subunit 2D',\n 'interacts_with',\n 'Hematologic Diseases',\n 'interacts_with',\n 'glucagon like peptide 1 receptor',\n 'interacts_with',\n 'Acute Lung Injury']"
     },
     "execution_count": 82,
     "metadata": {},
     "output_type": "execute_result"
    }
   ],
   "source": [
    "init_node = np.random.choice(list(connected_nodes.keys()))\n",
    "init_node_entity = get_node_entity(init_node)\n",
    "get_random_walk(get_walk_size(), init_node , init_node_entity)"
   ],
   "metadata": {
    "collapsed": false,
    "ExecuteTime": {
     "end_time": "2024-04-02T01:55:14.015626100Z",
     "start_time": "2024-04-02T01:55:13.962486Z"
    }
   },
   "id": "310b3d30591413d7"
  },
  {
   "cell_type": "code",
   "execution_count": 83,
   "outputs": [
    {
     "data": {
      "text/plain": "Generating Random Walks:   0%|          | 0/1000000 [00:00<?, ?it/s]",
      "application/vnd.jupyter.widget-view+json": {
       "version_major": 2,
       "version_minor": 0,
       "model_id": "4c5f663448584b34807435fa3c12bc88"
      }
     },
     "metadata": {},
     "output_type": "display_data"
    }
   ],
   "source": [
    "from tqdm.notebook import tqdm\n",
    "kg_paths = set()\n",
    "\n",
    "pbar = tqdm(range(1000000), desc='Generating Random Walks')\n",
    "while len(kg_paths) < 1000000:\n",
    "    init_node = np.random.choice(list(connected_nodes.keys()))\n",
    "    init_node_entity = get_node_entity(init_node)\n",
    "    path = get_random_walk(get_walk_size(), init_node, init_node_entity)\n",
    "    kg_paths.add(tuple(path))\n",
    "    pbar.update(1)\n"
   ],
   "metadata": {
    "collapsed": false,
    "ExecuteTime": {
     "end_time": "2024-04-02T04:21:29.578847400Z",
     "start_time": "2024-04-02T01:55:21.832062700Z"
    }
   },
   "id": "8a0512d84e6340a6"
  },
  {
   "cell_type": "code",
   "execution_count": 84,
   "outputs": [
    {
     "data": {
      "text/plain": "1000000"
     },
     "execution_count": 84,
     "metadata": {},
     "output_type": "execute_result"
    }
   ],
   "source": [
    "len(kg_paths)"
   ],
   "metadata": {
    "collapsed": false,
    "ExecuteTime": {
     "end_time": "2024-04-02T04:29:51.456462300Z",
     "start_time": "2024-04-02T04:29:51.311841Z"
    }
   },
   "id": "2970cc4d16fa57ff"
  },
  {
   "cell_type": "code",
   "execution_count": 89,
   "outputs": [],
   "source": [
    "import pickle\n",
    "\n",
    "with open('kg_paths.pkl', 'wb') as f:\n",
    "    pickle.dump(kg_paths, f)\n"
   ],
   "metadata": {
    "collapsed": false,
    "ExecuteTime": {
     "end_time": "2024-04-02T04:31:42.223167600Z",
     "start_time": "2024-04-02T04:30:46.464658600Z"
    }
   },
   "id": "5be42ac153816a82"
  },
  {
   "cell_type": "code",
   "execution_count": 1,
   "outputs": [],
   "source": [
    "import pickle"
   ],
   "metadata": {
    "collapsed": false,
    "ExecuteTime": {
     "end_time": "2024-04-16T21:24:35.178139400Z",
     "start_time": "2024-04-16T21:24:35.159449800Z"
    }
   },
   "id": "4ddf40f71a109dcd"
  },
  {
   "cell_type": "code",
   "execution_count": 2,
   "outputs": [],
   "source": [
    "data = pickle.load(open('kg_paths.pkl', 'rb'))"
   ],
   "metadata": {
    "collapsed": false,
    "ExecuteTime": {
     "end_time": "2024-04-16T21:25:22.374732800Z",
     "start_time": "2024-04-16T21:24:37.904596500Z"
    }
   },
   "id": "3638d79827f87179"
  },
  {
   "cell_type": "code",
   "execution_count": 5,
   "outputs": [
    {
     "data": {
      "text/plain": "('(3,4-DIHYDROXY-2-NITROPHENYL)(PHENYL)METHANONE',\n 'interacts_with',\n 'catechol-O-methyltransferase',\n 'interacts_with',\n 'N-{3-[5-(6-Amino-Purin-9-Yl)-3,4-Dihydroxy-Tetrahydro-Furan-2-Yl]-Allyl}-2,3-Dihydroxy-5-Nitro-Benzamide')"
     },
     "execution_count": 5,
     "metadata": {},
     "output_type": "execute_result"
    }
   ],
   "source": [],
   "metadata": {
    "collapsed": false,
    "ExecuteTime": {
     "end_time": "2024-04-16T21:25:49.637909200Z",
     "start_time": "2024-04-16T21:25:49.549839Z"
    }
   },
   "id": "5a95ef1ee05f560d"
  },
  {
   "cell_type": "code",
   "execution_count": 7,
   "outputs": [
    {
     "ename": "TypeError",
     "evalue": "random_sample() takes at most 1 positional argument (2 given)",
     "output_type": "error",
     "traceback": [
      "\u001B[1;31m---------------------------------------------------------------------------\u001B[0m",
      "\u001B[1;31mTypeError\u001B[0m                                 Traceback (most recent call last)",
      "\u001B[1;32m~\\AppData\\Local\\Temp\\ipykernel_26512\\3415222330.py\u001B[0m in \u001B[0;36m<module>\u001B[1;34m\u001B[0m\n\u001B[0;32m      3\u001B[0m \u001B[0mdata\u001B[0m \u001B[1;33m=\u001B[0m \u001B[0mlist\u001B[0m\u001B[1;33m(\u001B[0m\u001B[0mdata\u001B[0m\u001B[1;33m)\u001B[0m\u001B[1;33m\u001B[0m\u001B[1;33m\u001B[0m\u001B[0m\n\u001B[0;32m      4\u001B[0m \u001B[1;33m\u001B[0m\u001B[0m\n\u001B[1;32m----> 5\u001B[1;33m \u001B[0msample_data\u001B[0m \u001B[1;33m=\u001B[0m \u001B[0mnp\u001B[0m\u001B[1;33m.\u001B[0m\u001B[0mrandom\u001B[0m\u001B[1;33m.\u001B[0m\u001B[0msample\u001B[0m\u001B[1;33m(\u001B[0m\u001B[0mdata\u001B[0m\u001B[1;33m,\u001B[0m \u001B[1;36m10000\u001B[0m\u001B[1;33m)\u001B[0m\u001B[1;33m\u001B[0m\u001B[1;33m\u001B[0m\u001B[0m\n\u001B[0m",
      "\u001B[1;32mmtrand.pyx\u001B[0m in \u001B[0;36mnumpy.random.mtrand.sample\u001B[1;34m()\u001B[0m\n",
      "\u001B[1;32mmtrand.pyx\u001B[0m in \u001B[0;36mnumpy.random.mtrand.RandomState.random_sample\u001B[1;34m()\u001B[0m\n",
      "\u001B[1;31mTypeError\u001B[0m: random_sample() takes at most 1 positional argument (2 given)"
     ]
    }
   ],
   "source": [
    "import numpy as np\n",
    "\n",
    "data = list(data)"
   ],
   "metadata": {
    "collapsed": false,
    "ExecuteTime": {
     "end_time": "2024-04-17T16:17:54.243285500Z",
     "start_time": "2024-04-17T16:17:52.871492200Z"
    }
   },
   "id": "6d34766df783be39"
  },
  {
   "cell_type": "code",
   "execution_count": 12,
   "outputs": [
    {
     "name": "stderr",
     "output_type": "stream",
     "text": [
      "C:\\Users\\mihir\\PycharmProjects\\assignment-2-env\\lib\\site-packages\\ipykernel_launcher.py:1: VisibleDeprecationWarning: Creating an ndarray from ragged nested sequences (which is a list-or-tuple of lists-or-tuples-or ndarrays with different lengths or shapes) is deprecated. If you meant to do this, you must specify 'dtype=object' when creating the ndarray.\n",
      "  \"\"\"Entry point for launching an IPython kernel.\n"
     ]
    }
   ],
   "source": [
    "sample_data =np.random.choice(size=10000, a=data)"
   ],
   "metadata": {
    "collapsed": false,
    "ExecuteTime": {
     "end_time": "2024-04-17T16:19:05.971383300Z",
     "start_time": "2024-04-17T16:19:05.067103800Z"
    }
   },
   "id": "8b3f0c9cb6e8677f"
  },
  {
   "cell_type": "code",
   "execution_count": 13,
   "outputs": [],
   "source": [
    "import pickle\n",
    "\n",
    "with open('sample_data.pkl', 'wb') as f:\n",
    "    pickle.dump(sample_data, f)"
   ],
   "metadata": {
    "collapsed": false,
    "ExecuteTime": {
     "end_time": "2024-04-17T16:19:44.112477500Z",
     "start_time": "2024-04-17T16:19:42.572332400Z"
    }
   },
   "id": "860f94d4661d87a6"
  },
  {
   "cell_type": "code",
   "execution_count": null,
   "outputs": [],
   "source": [],
   "metadata": {
    "collapsed": false
   },
   "id": "d4c78178b7f35b38"
  }
 ],
 "metadata": {
  "kernelspec": {
   "name": "assignment-2-env",
   "language": "python",
   "display_name": "assignment-2-env"
  },
  "language_info": {
   "codemirror_mode": {
    "name": "ipython",
    "version": 2
   },
   "file_extension": ".py",
   "mimetype": "text/x-python",
   "name": "python",
   "nbconvert_exporter": "python",
   "pygments_lexer": "ipython2",
   "version": "2.7.6"
  }
 },
 "nbformat": 4,
 "nbformat_minor": 5
}
